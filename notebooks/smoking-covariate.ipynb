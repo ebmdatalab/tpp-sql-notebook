{
 "cells": [
  {
   "cell_type": "markdown",
   "metadata": {},
   "source": [
    "### Import statements"
   ]
  },
  {
   "cell_type": "code",
   "execution_count": 14,
   "metadata": {},
   "outputs": [],
   "source": [
    "import pyodbc\n",
    "import pandas as pd\n",
    "from IPython.display import display, Markdown"
   ]
  },
  {
   "cell_type": "markdown",
   "metadata": {},
   "source": [
    "### Connect to server with dummy data"
   ]
  },
  {
   "cell_type": "code",
   "execution_count": 15,
   "metadata": {},
   "outputs": [],
   "source": [
    "server = 'covid.ebmdatalab.net,1433'\n",
    "database = 'OPENCoronaExport' \n",
    "username = 'SA'\n",
    "password = 'ahsjdkaJAMSHDA123[' \n",
    "cnxn = pyodbc.connect('DRIVER={ODBC Driver 17 for SQL Server};SERVER='+server+';DATABASE='+database+';UID='+username+';PWD='+ password)\n",
    "cursor = cnxn.cursor()"
   ]
  },
  {
   "cell_type": "markdown",
   "metadata": {},
   "source": [
    "### Find the smoking codes from QoF"
   ]
  },
  {
   "cell_type": "code",
   "execution_count": 16,
   "metadata": {},
   "outputs": [],
   "source": [
    "qof = pd.read_csv('../data/QoFClusteres_CTV3Codes - Sheet1.csv')"
   ]
  },
  {
   "cell_type": "markdown",
   "metadata": {},
   "source": [
    "#### Import function"
   ]
  },
  {
   "cell_type": "code",
   "execution_count": 17,
   "metadata": {},
   "outputs": [],
   "source": [
    "from lib.data_gathering import search_terms_to_df"
   ]
  },
  {
   "cell_type": "markdown",
   "metadata": {},
   "source": [
    "### Search Qof codes"
   ]
  },
  {
   "cell_type": "code",
   "execution_count": 18,
   "metadata": {},
   "outputs": [],
   "source": [
    "smoking_list = ['SMOK', 'CESS']"
   ]
  },
  {
   "cell_type": "code",
   "execution_count": 19,
   "metadata": {},
   "outputs": [],
   "source": [
    "smoking_qof = search_terms_to_df(smoking_list, col_name='ClusterId', df_name=qof)"
   ]
  },
  {
   "cell_type": "code",
   "execution_count": 20,
   "metadata": {},
   "outputs": [
    {
     "data": {
      "text/html": [
       "<div>\n",
       "<style scoped>\n",
       "    .dataframe tbody tr th:only-of-type {\n",
       "        vertical-align: middle;\n",
       "    }\n",
       "\n",
       "    .dataframe tbody tr th {\n",
       "        vertical-align: top;\n",
       "    }\n",
       "\n",
       "    .dataframe thead th {\n",
       "        text-align: right;\n",
       "    }\n",
       "</style>\n",
       "<table border=\"1\" class=\"dataframe\">\n",
       "  <thead>\n",
       "    <tr style=\"text-align: right;\">\n",
       "      <th></th>\n",
       "      <th>ClusterId</th>\n",
       "      <th>ClusterName</th>\n",
       "      <th>CTV3Code</th>\n",
       "      <th>Description</th>\n",
       "    </tr>\n",
       "  </thead>\n",
       "  <tbody>\n",
       "    <tr>\n",
       "      <th>3495</th>\n",
       "      <td>CESS</td>\n",
       "      <td>Smoking cessation codes</td>\n",
       "      <td>6791.</td>\n",
       "      <td>Health education - smoking</td>\n",
       "    </tr>\n",
       "    <tr>\n",
       "      <th>3496</th>\n",
       "      <td>CESS</td>\n",
       "      <td>Smoking cessation codes</td>\n",
       "      <td>67A3.</td>\n",
       "      <td>Pregnancy smoking advice</td>\n",
       "    </tr>\n",
       "    <tr>\n",
       "      <th>3497</th>\n",
       "      <td>CESS</td>\n",
       "      <td>Smoking cessation codes</td>\n",
       "      <td>9OO1.</td>\n",
       "      <td>Attends stop smoking monitoring</td>\n",
       "    </tr>\n",
       "    <tr>\n",
       "      <th>3498</th>\n",
       "      <td>CESS</td>\n",
       "      <td>Smoking cessation codes</td>\n",
       "      <td>9OO2.</td>\n",
       "      <td>Refuses stop smoking monitor</td>\n",
       "    </tr>\n",
       "    <tr>\n",
       "      <th>3499</th>\n",
       "      <td>CESS</td>\n",
       "      <td>Smoking cessation codes</td>\n",
       "      <td>9OO3.</td>\n",
       "      <td>Stop smoking monitor default</td>\n",
       "    </tr>\n",
       "  </tbody>\n",
       "</table>\n",
       "</div>"
      ],
      "text/plain": [
       "     ClusterId              ClusterName CTV3Code  \\\n",
       "3495      CESS  Smoking cessation codes    6791.   \n",
       "3496      CESS  Smoking cessation codes    67A3.   \n",
       "3497      CESS  Smoking cessation codes    9OO1.   \n",
       "3498      CESS  Smoking cessation codes    9OO2.   \n",
       "3499      CESS  Smoking cessation codes    9OO3.   \n",
       "\n",
       "                          Description  \n",
       "3495       Health education - smoking  \n",
       "3496         Pregnancy smoking advice  \n",
       "3497  Attends stop smoking monitoring  \n",
       "3498     Refuses stop smoking monitor  \n",
       "3499     Stop smoking monitor default  "
      ]
     },
     "execution_count": 20,
     "metadata": {},
     "output_type": "execute_result"
    }
   ],
   "source": [
    "smoking_qof.head()"
   ]
  },
  {
   "cell_type": "markdown",
   "metadata": {},
   "source": [
    "#### Output codes to csv"
   ]
  },
  {
   "cell_type": "code",
   "execution_count": 21,
   "metadata": {},
   "outputs": [],
   "source": [
    "smoking_qof.to_csv('../data/smoking_codes.csv')"
   ]
  },
  {
   "cell_type": "markdown",
   "metadata": {},
   "source": [
    "### Checking\n",
    "\n",
    "There would need to be some sort of manual checking of these codes"
   ]
  },
  {
   "cell_type": "markdown",
   "metadata": {},
   "source": [
    "### Find people with these codes in TPP data"
   ]
  },
  {
   "cell_type": "code",
   "execution_count": 22,
   "metadata": {},
   "outputs": [],
   "source": [
    "from lib.data_gathering import codes_to_sql_where"
   ]
  },
  {
   "cell_type": "code",
   "execution_count": 23,
   "metadata": {},
   "outputs": [],
   "source": [
    "codes_where = codes_to_sql_where(\"CTV3Code\", smoking_qof['CTV3Code'])"
   ]
  },
  {
   "cell_type": "code",
   "execution_count": 24,
   "metadata": {},
   "outputs": [
    {
     "data": {
      "text/html": [
       "<div>\n",
       "<style scoped>\n",
       "    .dataframe tbody tr th:only-of-type {\n",
       "        vertical-align: middle;\n",
       "    }\n",
       "\n",
       "    .dataframe tbody tr th {\n",
       "        vertical-align: top;\n",
       "    }\n",
       "\n",
       "    .dataframe thead th {\n",
       "        text-align: right;\n",
       "    }\n",
       "</style>\n",
       "<table border=\"1\" class=\"dataframe\">\n",
       "  <thead>\n",
       "    <tr style=\"text-align: right;\">\n",
       "      <th></th>\n",
       "      <th>Consultation_ID</th>\n",
       "      <th>CodedEvent_ID</th>\n",
       "      <th>CTV3Code</th>\n",
       "      <th>NumericValue</th>\n",
       "      <th>ConsultationDate</th>\n",
       "      <th>SnomedConceptId</th>\n",
       "    </tr>\n",
       "    <tr>\n",
       "      <th>Patient_ID</th>\n",
       "      <th></th>\n",
       "      <th></th>\n",
       "      <th></th>\n",
       "      <th></th>\n",
       "      <th></th>\n",
       "      <th></th>\n",
       "    </tr>\n",
       "  </thead>\n",
       "  <tbody>\n",
       "    <tr>\n",
       "      <th>685</th>\n",
       "      <td>2757948190</td>\n",
       "      <td>2198985768</td>\n",
       "      <td>Ua1Nz</td>\n",
       "      <td>0.0</td>\n",
       "      <td>2019-10-01 12:29:08</td>\n",
       "      <td>225323000</td>\n",
       "    </tr>\n",
       "    <tr>\n",
       "      <th>731</th>\n",
       "      <td>2757977414</td>\n",
       "      <td>2199085869</td>\n",
       "      <td>Ua1Nz</td>\n",
       "      <td>0.0</td>\n",
       "      <td>2019-10-01 12:49:20</td>\n",
       "      <td>225323000</td>\n",
       "    </tr>\n",
       "    <tr>\n",
       "      <th>827</th>\n",
       "      <td>2757977563</td>\n",
       "      <td>2199085918</td>\n",
       "      <td>Ua1Nz</td>\n",
       "      <td>0.0</td>\n",
       "      <td>2019-10-01 12:49:20</td>\n",
       "      <td>225323000</td>\n",
       "    </tr>\n",
       "    <tr>\n",
       "      <th>1009</th>\n",
       "      <td>2757977336</td>\n",
       "      <td>2199085720</td>\n",
       "      <td>Ua1Nz</td>\n",
       "      <td>0.0</td>\n",
       "      <td>2019-10-01 12:49:20</td>\n",
       "      <td>225323000</td>\n",
       "    </tr>\n",
       "    <tr>\n",
       "      <th>1009</th>\n",
       "      <td>2757948092</td>\n",
       "      <td>2198685838</td>\n",
       "      <td>Ua1Nz</td>\n",
       "      <td>0.0</td>\n",
       "      <td>2019-10-01 12:29:08</td>\n",
       "      <td>225323000</td>\n",
       "    </tr>\n",
       "  </tbody>\n",
       "</table>\n",
       "</div>"
      ],
      "text/plain": [
       "            Consultation_ID  CodedEvent_ID CTV3Code  NumericValue  \\\n",
       "Patient_ID                                                          \n",
       "685              2757948190     2198985768    Ua1Nz           0.0   \n",
       "731              2757977414     2199085869    Ua1Nz           0.0   \n",
       "827              2757977563     2199085918    Ua1Nz           0.0   \n",
       "1009             2757977336     2199085720    Ua1Nz           0.0   \n",
       "1009             2757948092     2198685838    Ua1Nz           0.0   \n",
       "\n",
       "              ConsultationDate     SnomedConceptId  \n",
       "Patient_ID                                          \n",
       "685        2019-10-01 12:29:08  225323000           \n",
       "731        2019-10-01 12:49:20  225323000           \n",
       "827        2019-10-01 12:49:20  225323000           \n",
       "1009       2019-10-01 12:49:20  225323000           \n",
       "1009       2019-10-01 12:29:08  225323000           "
      ]
     },
     "execution_count": 24,
     "metadata": {},
     "output_type": "execute_result"
    }
   ],
   "source": [
    "# NBVAL_IGNORE_OUTPUT\n",
    "query = f'''\n",
    "SELECT * --DISTINCT Patient_ID\n",
    "FROM CodedEvent\n",
    "WHERE ({codes_where}) AND ConsultationDate BETWEEN '2015-01-01' AND '2020-03-31'\n",
    "'''\n",
    "df = pd.read_sql(query, cnxn, index_col='Patient_ID')\n",
    "df.head()"
   ]
  },
  {
   "cell_type": "code",
   "execution_count": 25,
   "metadata": {},
   "outputs": [],
   "source": [
    "cnxn.close()"
   ]
  },
  {
   "cell_type": "code",
   "execution_count": null,
   "metadata": {},
   "outputs": [],
   "source": []
  }
 ],
 "metadata": {
  "jupytext": {
   "cell_metadata_filter": "all",
   "notebook_metadata_filter": "all,-language_info",
   "text_representation": {
    "extension": ".py",
    "format_name": "light",
    "format_version": "1.5",
    "jupytext_version": "1.3.3"
   }
  },
  "kernelspec": {
   "display_name": "Python 3",
   "language": "python",
   "name": "python3"
  },
  "language_info": {
   "codemirror_mode": {
    "name": "ipython",
    "version": 3
   },
   "file_extension": ".py",
   "mimetype": "text/x-python",
   "name": "python",
   "nbconvert_exporter": "python",
   "pygments_lexer": "ipython3",
   "version": "3.8.1"
  }
 },
 "nbformat": 4,
 "nbformat_minor": 4
}
