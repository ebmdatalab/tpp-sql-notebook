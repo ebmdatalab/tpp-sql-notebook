{
 "cells": [
  {
   "cell_type": "code",
   "execution_count": 2,
   "metadata": {},
   "outputs": [],
   "source": [
    "import pyodbc\n",
    "import pandas as pd\n",
    "from IPython.display import display, Markdown"
   ]
  },
  {
   "cell_type": "code",
   "execution_count": 3,
   "metadata": {},
   "outputs": [],
   "source": [
    "server = 'covid.ebmdatalab.net,1433'\n",
    "database = 'OPENCoronaExport' \n",
    "username = 'SA'\n",
    "password = 'ahsjdkaJAMSHDA123[' \n",
    "cnxn = pyodbc.connect('DRIVER={ODBC Driver 17 for SQL Server};SERVER='+server+';DATABASE='+database+';UID='+username+';PWD='+ password)\n",
    "cursor = cnxn.cursor()"
   ]
  },
  {
   "cell_type": "code",
   "execution_count": 4,
   "metadata": {},
   "outputs": [
    {
     "data": {
      "text/plain": [
       "Patient_ID                                                    10007\n",
       "Id                                                             1234\n",
       "LocationOfDeath                                                 ITU\n",
       "Sex                                                               M\n",
       "DateOfAdmission                                          2020-04-02\n",
       "DateOfSwabbed                                            2020-04-02\n",
       "DateOfResult                                             2020-04-03\n",
       "RelativesAware                                                    Y\n",
       "TravelHistory                                                 False\n",
       "RegionCode                                                      Y62\n",
       "RegionName                                               North West\n",
       "OrganisationCode                                                ABC\n",
       "OrganisationName                                Test Hospital Trust\n",
       "OrganisationTypeLot                                        Hospital\n",
       "RegionApproved                                                 True\n",
       "RegionalApprovedDate                                     2020-04-09\n",
       "NationalApproved                                               True\n",
       "NationalApprovedDate                                     2020-04-09\n",
       "PreExistingCondition                                          False\n",
       "Age                                                              57\n",
       "DateOfDeath                                              2020-04-07\n",
       "snapDate                                                 2020-04-09\n",
       "HadLearningDisability                                            NK\n",
       "ReceivedTreatmentForMentalHealth                                 NK\n",
       "Der_Ethnic_Category_Description                                None\n",
       "Der_Latest_SUS_Attendance_Date_For_Ethnicity                   None\n",
       "Der_Source_Dataset_For_Ethnicty                                None\n",
       "Name: 0, dtype: object"
      ]
     },
     "execution_count": 4,
     "metadata": {},
     "output_type": "execute_result"
    }
   ],
   "source": [
    "# NBVAL_IGNORE_OUTPUT\n",
    "pd.read_sql(\"select top 10 * from CPNS\", cnxn).iloc[0]"
   ]
  },
  {
   "cell_type": "code",
   "execution_count": 5,
   "metadata": {},
   "outputs": [
    {
     "data": {
      "text/plain": [
       "Patient_ID                                            10274\n",
       "PHE_ID                                                22341\n",
       "Organism_Species_Name     SARS-CoV-2 CORONAVIRUS (Covid-19)\n",
       "Earliest_Specimen_Date                           2020-03-22\n",
       "Lab_Report_Date                                  2020-03-25\n",
       "Age_in_Years                                             25\n",
       "Patient_Sex                                          Female\n",
       "County_Description                                   London\n",
       "PostCode_Source                                           P\n",
       "Name: 0, dtype: object"
      ]
     },
     "execution_count": 5,
     "metadata": {},
     "output_type": "execute_result"
    }
   ],
   "source": [
    "# NBVAL_IGNORE_OUTPUT\n",
    "pd.read_sql(\"select top 10 * from SGSS_Negative\", cnxn).iloc[0]"
   ]
  },
  {
   "cell_type": "code",
   "execution_count": 6,
   "metadata": {},
   "outputs": [
    {
     "data": {
      "text/plain": [
       "Patient_ID                                            10007\n",
       "PHE_ID                                                12341\n",
       "Organism_Species_Name     SARS-CoV-2 CORONAVIRUS (Covid-19)\n",
       "Earliest_Specimen_Date                           2020-03-22\n",
       "Lab_Report_Date                                  2020-03-25\n",
       "Age_in_Years                                             25\n",
       "Patient_Sex                                          Female\n",
       "County_Description                                   London\n",
       "PostCode_Source                                           P\n",
       "Name: 0, dtype: object"
      ]
     },
     "execution_count": 6,
     "metadata": {},
     "output_type": "execute_result"
    }
   ],
   "source": [
    "# NBVAL_IGNORE_OUTPUT\n",
    "pd.read_sql(\"select top 10 * from SGSS_Positive\", cnxn).iloc[0]"
   ]
  },
  {
   "cell_type": "code",
   "execution_count": 7,
   "metadata": {
    "lines_to_next_cell": 2
   },
   "outputs": [
    {
     "data": {
      "text/plain": [
       "Patient_ID         10007\n",
       "sex                    2\n",
       "ageinyrs              99\n",
       "dod           2020-02-01\n",
       "icd10u              X590\n",
       "ICD10001            J189\n",
       "ICD10002            R688\n",
       "ICD10003             R54\n",
       "ICD10004            S720\n",
       "ICD10005            X590\n",
       "ICD10006            M259\n",
       "ICD10007            Z966\n",
       "ICD10008             I10\n",
       "ICD10009            E210\n",
       "ICD10010            None\n",
       "ICD10011            None\n",
       "ICD10012            None\n",
       "ICD10013            None\n",
       "ICD10014            None\n",
       "ICD10015            None\n",
       "Name: 0, dtype: object"
      ]
     },
     "execution_count": 7,
     "metadata": {},
     "output_type": "execute_result"
    }
   ],
   "source": [
    "# NBVAL_IGNORE_OUTPUT\n",
    "pd.read_sql(\"select top 10 * from ONS_Deaths\", cnxn).iloc[0]"
   ]
  }
 ],
 "metadata": {
  "jupytext": {
   "cell_metadata_filter": "all",
   "notebook_metadata_filter": "all,-language_info",
   "text_representation": {
    "extension": ".py",
    "format_name": "light",
    "format_version": "1.5",
    "jupytext_version": "1.3.3"
   }
  },
  "kernelspec": {
   "display_name": "Python 3",
   "language": "python",
   "name": "python3"
  },
  "language_info": {
   "codemirror_mode": {
    "name": "ipython",
    "version": 3
   },
   "file_extension": ".py",
   "mimetype": "text/x-python",
   "name": "python",
   "nbconvert_exporter": "python",
   "pygments_lexer": "ipython3",
   "version": "3.8.1"
  }
 },
 "nbformat": 4,
 "nbformat_minor": 4
}
