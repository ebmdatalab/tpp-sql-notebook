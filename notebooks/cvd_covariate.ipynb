{
 "cells": [
  {
   "cell_type": "code",
   "execution_count": 1,
   "metadata": {},
   "outputs": [],
   "source": [
    "import pyodbc\n",
    "import pandas as pd\n",
    "from IPython.display import display, Markdown"
   ]
  },
  {
   "cell_type": "code",
   "execution_count": 2,
   "metadata": {},
   "outputs": [],
   "source": [
    "server = 'covid.ebmdatalab.net,1433'\n",
    "database = 'OPENCoronaExport' \n",
    "username = 'SA'\n",
    "password = 'ahsjdkaJAMSHDA123[' \n",
    "cnxn = pyodbc.connect('DRIVER={ODBC Driver 17 for SQL Server};SERVER='+server+';DATABASE='+database+';UID='+username+';PWD='+ password)\n",
    "cursor = cnxn.cursor()"
   ]
  },
  {
   "cell_type": "code",
   "execution_count": 54,
   "metadata": {},
   "outputs": [
    {
     "data": {
      "text/plain": [
       "3562    14A3.\n",
       "3563    14A4.\n",
       "3564    G300.\n",
       "3565    G301.\n",
       "3566    G3010\n",
       "Name: CTV3Code, dtype: object"
      ]
     },
     "execution_count": 54,
     "metadata": {},
     "output_type": "execute_result"
    }
   ],
   "source": [
    "qof_clusters = pd.read_csv('../data/QoFClusteres_CTV3Codes - Sheet1.csv')\n",
    "chd_codes = qof_clusters.loc[qof_clusters['ClusterId']=='CHD','CTV3Code']\n",
    "chd_codes.head()"
   ]
  },
  {
   "cell_type": "code",
   "execution_count": 56,
   "metadata": {},
   "outputs": [],
   "source": [
    "def codes_to_sql_where(col_name, code_list):\n",
    "    where = \"\"\n",
    "    i = 0\n",
    "    for code in code_list:\n",
    "        if i == 0:\n",
    "            where = where + f\"{col_name} = '{code}'\"\n",
    "        else:\n",
    "            where = where + f\" OR {col_name} = '{code}'\"\n",
    "        i+=1\n",
    "    return where"
   ]
  },
  {
   "cell_type": "code",
   "execution_count": 57,
   "metadata": {},
   "outputs": [
    {
     "data": {
      "text/plain": [
       "\"CTV3Code = '14A3.' OR CTV3Code = '14A4.' OR CTV3Code = 'G300.' OR CTV3Code = 'G301.' OR CTV3Code = 'G3010'\""
      ]
     },
     "execution_count": 57,
     "metadata": {},
     "output_type": "execute_result"
    }
   ],
   "source": [
    "codes_to_sql_where(\"CTV3Code\", chd_codes.head())"
   ]
  },
  {
   "cell_type": "code",
   "execution_count": 61,
   "metadata": {},
   "outputs": [
    {
     "data": {
      "text/html": [
       "<div>\n",
       "<style scoped>\n",
       "    .dataframe tbody tr th:only-of-type {\n",
       "        vertical-align: middle;\n",
       "    }\n",
       "\n",
       "    .dataframe tbody tr th {\n",
       "        vertical-align: top;\n",
       "    }\n",
       "\n",
       "    .dataframe thead th {\n",
       "        text-align: right;\n",
       "    }\n",
       "</style>\n",
       "<table border=\"1\" class=\"dataframe\">\n",
       "  <thead>\n",
       "    <tr style=\"text-align: right;\">\n",
       "      <th></th>\n",
       "      <th>chd</th>\n",
       "    </tr>\n",
       "    <tr>\n",
       "      <th>Patient_ID</th>\n",
       "      <th></th>\n",
       "    </tr>\n",
       "  </thead>\n",
       "  <tbody>\n",
       "    <tr>\n",
       "      <th>201</th>\n",
       "      <td>True</td>\n",
       "    </tr>\n",
       "    <tr>\n",
       "      <th>201</th>\n",
       "      <td>True</td>\n",
       "    </tr>\n",
       "    <tr>\n",
       "      <th>201</th>\n",
       "      <td>True</td>\n",
       "    </tr>\n",
       "    <tr>\n",
       "      <th>201</th>\n",
       "      <td>True</td>\n",
       "    </tr>\n",
       "    <tr>\n",
       "      <th>201</th>\n",
       "      <td>True</td>\n",
       "    </tr>\n",
       "    <tr>\n",
       "      <th>...</th>\n",
       "      <td>...</td>\n",
       "    </tr>\n",
       "    <tr>\n",
       "      <th>1434503</th>\n",
       "      <td>True</td>\n",
       "    </tr>\n",
       "    <tr>\n",
       "      <th>1434503</th>\n",
       "      <td>True</td>\n",
       "    </tr>\n",
       "    <tr>\n",
       "      <th>1434504</th>\n",
       "      <td>True</td>\n",
       "    </tr>\n",
       "    <tr>\n",
       "      <th>1434504</th>\n",
       "      <td>True</td>\n",
       "    </tr>\n",
       "    <tr>\n",
       "      <th>1478491</th>\n",
       "      <td>True</td>\n",
       "    </tr>\n",
       "  </tbody>\n",
       "</table>\n",
       "<p>33470 rows × 1 columns</p>\n",
       "</div>"
      ],
      "text/plain": [
       "             chd\n",
       "Patient_ID      \n",
       "201         True\n",
       "201         True\n",
       "201         True\n",
       "201         True\n",
       "201         True\n",
       "...          ...\n",
       "1434503     True\n",
       "1434503     True\n",
       "1434504     True\n",
       "1434504     True\n",
       "1478491     True\n",
       "\n",
       "[33470 rows x 1 columns]"
      ]
     },
     "execution_count": 61,
     "metadata": {},
     "output_type": "execute_result"
    }
   ],
   "source": [
    "codes_where = codes_to_sql_where(\"CTV3Code\", chd_codes)\n",
    "query = f'''\n",
    "SELECT Patient_ID\n",
    "FROM CodedEvent\n",
    "WHERE {codes_where}\n",
    "'''\n",
    "df = pd.read_sql(query, cnxn, index_col='Patient_ID')\n",
    "df['chd'] = True\n",
    "df"
   ]
  }
 ],
 "metadata": {
  "jupytext": {
   "cell_metadata_filter": "all",
   "notebook_metadata_filter": "all,-language_info",
   "text_representation": {
    "extension": ".py",
    "format_name": "light",
    "format_version": "1.5",
    "jupytext_version": "1.3.3"
   }
  },
  "kernelspec": {
   "display_name": "Python 3",
   "language": "python",
   "name": "python3"
  },
  "language_info": {
   "codemirror_mode": {
    "name": "ipython",
    "version": 3
   },
   "file_extension": ".py",
   "mimetype": "text/x-python",
   "name": "python",
   "nbconvert_exporter": "python",
   "pygments_lexer": "ipython3",
   "version": "3.8.1"
  }
 },
 "nbformat": 4,
 "nbformat_minor": 4
}
