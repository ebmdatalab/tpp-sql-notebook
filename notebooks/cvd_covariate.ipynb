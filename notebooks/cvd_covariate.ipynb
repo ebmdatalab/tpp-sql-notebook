{
 "cells": [
  {
   "cell_type": "code",
   "execution_count": 1,
   "metadata": {},
   "outputs": [],
   "source": [
    "import os\n",
    "import pyodbc\n",
    "import pandas as pd\n",
    "from IPython.display import display, Markdown\n",
    "from ebmdatalab import bq"
   ]
  },
  {
   "cell_type": "markdown",
   "metadata": {},
   "source": [
    "### Server connection"
   ]
  },
  {
   "cell_type": "code",
   "execution_count": 2,
   "metadata": {},
   "outputs": [],
   "source": [
    "server = 'covid.ebmdatalab.net,1433'\n",
    "database = 'OPENCoronaExport' \n",
    "username = 'SA'\n",
    "password = 'my_secret_password' \n",
    "cnxn = pyodbc.connect('DRIVER={ODBC Driver 17 for SQL Server};SERVER='+server+';DATABASE='+database+';UID='+username+';PWD='+ password)\n",
    "cursor = cnxn.cursor()"
   ]
  },
  {
   "cell_type": "markdown",
   "metadata": {},
   "source": [
    "### CHD codes\n",
    "- just those in the CHD cluster, to identify cardiac events\n",
    "- in order to differentiate between patients on primary and secondary prevention"
   ]
  },
  {
   "cell_type": "code",
   "execution_count": 3,
   "metadata": {},
   "outputs": [
    {
     "data": {
      "text/plain": [
       "3562    14A3.\n",
       "3563    14A4.\n",
       "3564    G300.\n",
       "3565    G301.\n",
       "3566    G3010\n",
       "Name: CTV3Code, dtype: object"
      ]
     },
     "execution_count": 3,
     "metadata": {},
     "output_type": "execute_result"
    }
   ],
   "source": [
    "qof_clusters = pd.read_csv('../data/QoFClusteres_CTV3Codes - Sheet1.csv')\n",
    "chd_codes = qof_clusters.loc[qof_clusters['ClusterId']=='CHD','CTV3Code']\n",
    "chd_codes.head()"
   ]
  },
  {
   "cell_type": "markdown",
   "metadata": {},
   "source": [
    "### CVD medicine codes\n",
    "- taken from https://github.com/ebmdatalab/cvd-covid-codelist-notebook/blob/master/notebooks/cvd.codelist.ipynb"
   ]
  },
  {
   "cell_type": "code",
   "execution_count": 4,
   "metadata": {},
   "outputs": [
    {
     "data": {
      "text/html": [
       "<div>\n",
       "<style scoped>\n",
       "    .dataframe tbody tr th:only-of-type {\n",
       "        vertical-align: middle;\n",
       "    }\n",
       "\n",
       "    .dataframe tbody tr th {\n",
       "        vertical-align: top;\n",
       "    }\n",
       "\n",
       "    .dataframe thead th {\n",
       "        text-align: right;\n",
       "    }\n",
       "</style>\n",
       "<table border=\"1\" class=\"dataframe\">\n",
       "  <thead>\n",
       "    <tr style=\"text-align: right;\">\n",
       "      <th></th>\n",
       "      <th>type</th>\n",
       "      <th>id</th>\n",
       "      <th>bnf_code</th>\n",
       "      <th>nm</th>\n",
       "    </tr>\n",
       "  </thead>\n",
       "  <tbody>\n",
       "    <tr>\n",
       "      <th>0</th>\n",
       "      <td>amp</td>\n",
       "      <td>4783111000001104</td>\n",
       "      <td>0201010AABBAAAA</td>\n",
       "      <td>Digibind 38mg powder for solution for injectio...</td>\n",
       "    </tr>\n",
       "    <tr>\n",
       "      <th>1</th>\n",
       "      <td>amp</td>\n",
       "      <td>20477811000001103</td>\n",
       "      <td>0201010AABCAAAB</td>\n",
       "      <td>DigiFab 40mg powder for solution for infusion ...</td>\n",
       "    </tr>\n",
       "    <tr>\n",
       "      <th>2</th>\n",
       "      <td>amp</td>\n",
       "      <td>3726311000001104</td>\n",
       "      <td>0201010D0AAAAAA</td>\n",
       "      <td>Digitoxin 100microgram tablets (A A H Pharmace...</td>\n",
       "    </tr>\n",
       "    <tr>\n",
       "      <th>3</th>\n",
       "      <td>amp</td>\n",
       "      <td>3726811000001108</td>\n",
       "      <td>0201010D0AAAAAA</td>\n",
       "      <td>Digitoxin 100microgram tablets (Focus Pharmace...</td>\n",
       "    </tr>\n",
       "    <tr>\n",
       "      <th>4</th>\n",
       "      <td>amp</td>\n",
       "      <td>5626411000001106</td>\n",
       "      <td>0201010D0AAAAAA</td>\n",
       "      <td>Digitoxin 100microgram tablets (Alliance Healt...</td>\n",
       "    </tr>\n",
       "  </tbody>\n",
       "</table>\n",
       "</div>"
      ],
      "text/plain": [
       "  type                 id         bnf_code  \\\n",
       "0  amp   4783111000001104  0201010AABBAAAA   \n",
       "1  amp  20477811000001103  0201010AABCAAAB   \n",
       "2  amp   3726311000001104  0201010D0AAAAAA   \n",
       "3  amp   3726811000001108  0201010D0AAAAAA   \n",
       "4  amp   5626411000001106  0201010D0AAAAAA   \n",
       "\n",
       "                                                  nm  \n",
       "0  Digibind 38mg powder for solution for injectio...  \n",
       "1  DigiFab 40mg powder for solution for infusion ...  \n",
       "2  Digitoxin 100microgram tablets (A A H Pharmace...  \n",
       "3  Digitoxin 100microgram tablets (Focus Pharmace...  \n",
       "4  Digitoxin 100microgram tablets (Alliance Healt...  "
      ]
     },
     "execution_count": 4,
     "metadata": {},
     "output_type": "execute_result"
    }
   ],
   "source": [
    "sql = '''\n",
    "WITH bnf_codes AS (\n",
    "  SELECT bnf_code FROM hscic.presentation WHERE \n",
    "    bnf_code LIKE '02%' #BNF cvd chapter \n",
    ")\n",
    "\n",
    "SELECT \"vmp\" AS type, id, bnf_code, nm\n",
    "FROM dmd.vmp\n",
    "WHERE bnf_code IN (SELECT * FROM bnf_codes)\n",
    "\n",
    "UNION ALL\n",
    "\n",
    "SELECT \"amp\" AS type, id, bnf_code, descr\n",
    "FROM dmd.amp\n",
    "WHERE bnf_code IN (SELECT * FROM bnf_codes)\n",
    "\n",
    "ORDER BY type, bnf_code, id\n",
    "'''\n",
    "\n",
    "cvd_medcodes = bq.cached_read(sql, csv_path=os.path.join('..','data','cvd_medcodes.csv'))\n",
    "cvd_medcodes.head()"
   ]
  },
  {
   "cell_type": "code",
   "execution_count": 5,
   "metadata": {},
   "outputs": [],
   "source": [
    "def codes_to_sql_where(col_name, code_list):\n",
    "    where = \"\"\n",
    "    i = 0\n",
    "    for code in code_list:\n",
    "        if i == 0:\n",
    "            where = where + f\"{col_name} = '{code}'\"\n",
    "        else:\n",
    "            where = where + f\" OR {col_name} = '{code}'\"\n",
    "        i+=1\n",
    "    return where"
   ]
  },
  {
   "cell_type": "code",
   "execution_count": 6,
   "metadata": {},
   "outputs": [
    {
     "data": {
      "text/plain": [
       "\"CTV3Code = '14A3.' OR CTV3Code = '14A4.' OR CTV3Code = 'G300.' OR CTV3Code = 'G301.' OR CTV3Code = 'G3010'\""
      ]
     },
     "execution_count": 6,
     "metadata": {},
     "output_type": "execute_result"
    }
   ],
   "source": [
    "codes_to_sql_where(\"CTV3Code\", chd_codes.head())"
   ]
  },
  {
   "cell_type": "code",
   "execution_count": 7,
   "metadata": {},
   "outputs": [
    {
     "data": {
      "text/html": [
       "<div>\n",
       "<style scoped>\n",
       "    .dataframe tbody tr th:only-of-type {\n",
       "        vertical-align: middle;\n",
       "    }\n",
       "\n",
       "    .dataframe tbody tr th {\n",
       "        vertical-align: top;\n",
       "    }\n",
       "\n",
       "    .dataframe thead th {\n",
       "        text-align: right;\n",
       "    }\n",
       "</style>\n",
       "<table border=\"1\" class=\"dataframe\">\n",
       "  <thead>\n",
       "    <tr style=\"text-align: right;\">\n",
       "      <th></th>\n",
       "      <th>chd_code</th>\n",
       "    </tr>\n",
       "    <tr>\n",
       "      <th>Patient_ID</th>\n",
       "      <th></th>\n",
       "    </tr>\n",
       "  </thead>\n",
       "  <tbody>\n",
       "    <tr>\n",
       "      <th>84</th>\n",
       "      <td>1</td>\n",
       "    </tr>\n",
       "    <tr>\n",
       "      <th>201</th>\n",
       "      <td>1</td>\n",
       "    </tr>\n",
       "    <tr>\n",
       "      <th>228</th>\n",
       "      <td>1</td>\n",
       "    </tr>\n",
       "    <tr>\n",
       "      <th>301</th>\n",
       "      <td>1</td>\n",
       "    </tr>\n",
       "    <tr>\n",
       "      <th>401</th>\n",
       "      <td>1</td>\n",
       "    </tr>\n",
       "    <tr>\n",
       "      <th>...</th>\n",
       "      <td>...</td>\n",
       "    </tr>\n",
       "    <tr>\n",
       "      <th>1478491</th>\n",
       "      <td>1</td>\n",
       "    </tr>\n",
       "    <tr>\n",
       "      <th>1531920</th>\n",
       "      <td>1</td>\n",
       "    </tr>\n",
       "    <tr>\n",
       "      <th>1542798</th>\n",
       "      <td>1</td>\n",
       "    </tr>\n",
       "    <tr>\n",
       "      <th>1555794</th>\n",
       "      <td>1</td>\n",
       "    </tr>\n",
       "    <tr>\n",
       "      <th>235817835</th>\n",
       "      <td>1</td>\n",
       "    </tr>\n",
       "  </tbody>\n",
       "</table>\n",
       "<p>10854 rows × 1 columns</p>\n",
       "</div>"
      ],
      "text/plain": [
       "            chd_code\n",
       "Patient_ID          \n",
       "84                 1\n",
       "201                1\n",
       "228                1\n",
       "301                1\n",
       "401                1\n",
       "...              ...\n",
       "1478491            1\n",
       "1531920            1\n",
       "1542798            1\n",
       "1555794            1\n",
       "235817835          1\n",
       "\n",
       "[10854 rows x 1 columns]"
      ]
     },
     "execution_count": 7,
     "metadata": {},
     "output_type": "execute_result"
    }
   ],
   "source": [
    "codes_where = codes_to_sql_where(\"CTV3Code\", chd_codes)\n",
    "query = f'''\n",
    "SELECT DISTINCT Patient_ID, 1 AS chd_code\n",
    "FROM CodedEvent\n",
    "WHERE {codes_where}\n",
    "ORDER BY Patient_ID\n",
    "'''\n",
    "clin_df = pd.read_sql(query, cnxn, index_col='Patient_ID')\n",
    "clin_df"
   ]
  },
  {
   "cell_type": "code",
   "execution_count": 8,
   "metadata": {},
   "outputs": [
    {
     "data": {
      "text/html": [
       "<div>\n",
       "<style scoped>\n",
       "    .dataframe tbody tr th:only-of-type {\n",
       "        vertical-align: middle;\n",
       "    }\n",
       "\n",
       "    .dataframe tbody tr th {\n",
       "        vertical-align: top;\n",
       "    }\n",
       "\n",
       "    .dataframe thead th {\n",
       "        text-align: right;\n",
       "    }\n",
       "</style>\n",
       "<table border=\"1\" class=\"dataframe\">\n",
       "  <thead>\n",
       "    <tr style=\"text-align: right;\">\n",
       "      <th></th>\n",
       "      <th>cvd_meds</th>\n",
       "    </tr>\n",
       "    <tr>\n",
       "      <th>Patient_ID</th>\n",
       "      <th></th>\n",
       "    </tr>\n",
       "  </thead>\n",
       "  <tbody>\n",
       "    <tr>\n",
       "      <th>2</th>\n",
       "      <td>1</td>\n",
       "    </tr>\n",
       "    <tr>\n",
       "      <th>18</th>\n",
       "      <td>3</td>\n",
       "    </tr>\n",
       "    <tr>\n",
       "      <th>28</th>\n",
       "      <td>7</td>\n",
       "    </tr>\n",
       "    <tr>\n",
       "      <th>34</th>\n",
       "      <td>44</td>\n",
       "    </tr>\n",
       "    <tr>\n",
       "      <th>41</th>\n",
       "      <td>2</td>\n",
       "    </tr>\n",
       "  </tbody>\n",
       "</table>\n",
       "</div>"
      ],
      "text/plain": [
       "            cvd_meds\n",
       "Patient_ID          \n",
       "2                  1\n",
       "18                 3\n",
       "28                 7\n",
       "34                44\n",
       "41                 2"
      ]
     },
     "execution_count": 8,
     "metadata": {},
     "output_type": "execute_result"
    }
   ],
   "source": [
    "codes_where = codes_to_sql_where(\"DMD_ID\", cvd_medcodes['id'])\n",
    "query = f'''\n",
    "SELECT \n",
    "  med.Patient_ID,\n",
    "  COUNT(med.Patient_ID) AS cvd_meds\n",
    "\n",
    "FROM MedicationDictionary AS dict\n",
    "\n",
    "INNER JOIN MedicationIssue AS med\n",
    "ON dict.MultilexDrug_ID = med.MultilexDrug_ID\n",
    "\n",
    "WHERE ({codes_where})\n",
    "\n",
    "GROUP BY med.Patient_ID\n",
    "\n",
    "ORDER BY med.Patient_ID\n",
    "'''\n",
    "med_df = pd.read_sql(query, cnxn, index_col='Patient_ID')\n",
    "med_df.head()"
   ]
  },
  {
   "cell_type": "code",
   "execution_count": 9,
   "metadata": {},
   "outputs": [
    {
     "data": {
      "text/html": [
       "<div>\n",
       "<style scoped>\n",
       "    .dataframe tbody tr th:only-of-type {\n",
       "        vertical-align: middle;\n",
       "    }\n",
       "\n",
       "    .dataframe tbody tr th {\n",
       "        vertical-align: top;\n",
       "    }\n",
       "\n",
       "    .dataframe thead th {\n",
       "        text-align: right;\n",
       "    }\n",
       "</style>\n",
       "<table border=\"1\" class=\"dataframe\">\n",
       "  <thead>\n",
       "    <tr style=\"text-align: right;\">\n",
       "      <th></th>\n",
       "      <th>chd_code</th>\n",
       "      <th>cvd_meds</th>\n",
       "    </tr>\n",
       "    <tr>\n",
       "      <th>Patient_ID</th>\n",
       "      <th></th>\n",
       "      <th></th>\n",
       "    </tr>\n",
       "  </thead>\n",
       "  <tbody>\n",
       "    <tr>\n",
       "      <th>2</th>\n",
       "      <td>0.0</td>\n",
       "      <td>1.0</td>\n",
       "    </tr>\n",
       "    <tr>\n",
       "      <th>18</th>\n",
       "      <td>0.0</td>\n",
       "      <td>3.0</td>\n",
       "    </tr>\n",
       "    <tr>\n",
       "      <th>28</th>\n",
       "      <td>0.0</td>\n",
       "      <td>7.0</td>\n",
       "    </tr>\n",
       "    <tr>\n",
       "      <th>34</th>\n",
       "      <td>0.0</td>\n",
       "      <td>44.0</td>\n",
       "    </tr>\n",
       "    <tr>\n",
       "      <th>41</th>\n",
       "      <td>0.0</td>\n",
       "      <td>2.0</td>\n",
       "    </tr>\n",
       "  </tbody>\n",
       "</table>\n",
       "</div>"
      ],
      "text/plain": [
       "            chd_code  cvd_meds\n",
       "Patient_ID                    \n",
       "2                0.0       1.0\n",
       "18               0.0       3.0\n",
       "28               0.0       7.0\n",
       "34               0.0      44.0\n",
       "41               0.0       2.0"
      ]
     },
     "execution_count": 9,
     "metadata": {},
     "output_type": "execute_result"
    }
   ],
   "source": [
    "clin_df.join(med_df, how='outer').fillna(0).head()"
   ]
  },
  {
   "cell_type": "markdown",
   "metadata": {},
   "source": [
    "### Connection should be closed before restarting the kernal or closing the notebook"
   ]
  },
  {
   "cell_type": "code",
   "execution_count": 10,
   "metadata": {},
   "outputs": [],
   "source": [
    "cnxn.close()"
   ]
  }
 ],
 "metadata": {
  "jupytext": {
   "cell_metadata_filter": "all",
   "notebook_metadata_filter": "all,-language_info",
   "text_representation": {
    "extension": ".py",
    "format_name": "light",
    "format_version": "1.5",
    "jupytext_version": "1.3.3"
   }
  },
  "kernelspec": {
   "display_name": "Python 3",
   "language": "python",
   "name": "python3"
  },
  "language_info": {
   "codemirror_mode": {
    "name": "ipython",
    "version": 3
   },
   "file_extension": ".py",
   "mimetype": "text/x-python",
   "name": "python",
   "nbconvert_exporter": "python",
   "pygments_lexer": "ipython3",
   "version": "3.8.1"
  }
 },
 "nbformat": 4,
 "nbformat_minor": 4
}
