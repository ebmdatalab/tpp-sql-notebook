{
 "cells": [
  {
   "cell_type": "markdown",
   "metadata": {},
   "source": [
    "# Create dummy CHESS table\n",
    "- While we are waiting for the real thing.\n",
    "- Fields are taken from:\n",
    "https://www.england.nhs.uk/coronavirus/wp-content/uploads/sites/52/2020/03/phe-letter-to-trusts-re-daily-covid-19-hospital-surveillance-11-march-2020.pdf\n",
    "- Rather than try to replicate the duplication/missingness/chaos of the raw table, I've just created what I imagine is a tidied up version with a handful of useful fields for cohort selection.\n",
    "- We can add to these fields as needed."
   ]
  },
  {
   "cell_type": "code",
   "execution_count": 2,
   "metadata": {},
   "outputs": [],
   "source": [
    "import pyodbc\n",
    "import pandas as pd\n",
    "from IPython.display import display, Markdown"
   ]
  },
  {
   "cell_type": "code",
   "execution_count": 3,
   "metadata": {},
   "outputs": [],
   "source": [
    "server = 'covid.ebmdatalab.net,1433'\n",
    "database = 'OPENCoronaExport' \n",
    "username = 'SA'\n",
    "password = 'ahsjdkaJAMSHDA123[' \n",
    "cnxn = pyodbc.connect('DRIVER={ODBC Driver 17 for SQL Server};SERVER='+server+';DATABASE='+database+';UID='+username+';PWD='+ password)\n",
    "cursor = cnxn.cursor()"
   ]
  },
  {
   "cell_type": "code",
   "execution_count": 4,
   "metadata": {},
   "outputs": [
    {
     "data": {
      "text/html": [
       "<div>\n",
       "<style scoped>\n",
       "    .dataframe tbody tr th:only-of-type {\n",
       "        vertical-align: middle;\n",
       "    }\n",
       "\n",
       "    .dataframe tbody tr th {\n",
       "        vertical-align: top;\n",
       "    }\n",
       "\n",
       "    .dataframe thead th {\n",
       "        text-align: right;\n",
       "    }\n",
       "</style>\n",
       "<table border=\"1\" class=\"dataframe\">\n",
       "  <thead>\n",
       "    <tr style=\"text-align: right;\">\n",
       "      <th></th>\n",
       "      <th>name</th>\n",
       "    </tr>\n",
       "  </thead>\n",
       "  <tbody>\n",
       "    <tr>\n",
       "      <th>0</th>\n",
       "      <td>CodedEvent</td>\n",
       "    </tr>\n",
       "    <tr>\n",
       "      <th>1</th>\n",
       "      <td>CodedEventRange</td>\n",
       "    </tr>\n",
       "    <tr>\n",
       "      <th>2</th>\n",
       "      <td>Consultation</td>\n",
       "    </tr>\n",
       "    <tr>\n",
       "      <th>3</th>\n",
       "      <td>DataDictionary</td>\n",
       "    </tr>\n",
       "    <tr>\n",
       "      <th>4</th>\n",
       "      <td>MedicationDictionary</td>\n",
       "    </tr>\n",
       "    <tr>\n",
       "      <th>5</th>\n",
       "      <td>MedicationIssue</td>\n",
       "    </tr>\n",
       "    <tr>\n",
       "      <th>6</th>\n",
       "      <td>MedicationSensitivity</td>\n",
       "    </tr>\n",
       "    <tr>\n",
       "      <th>7</th>\n",
       "      <td>Organisation</td>\n",
       "    </tr>\n",
       "    <tr>\n",
       "      <th>8</th>\n",
       "      <td>Patient</td>\n",
       "    </tr>\n",
       "    <tr>\n",
       "      <th>9</th>\n",
       "      <td>PatientAddress</td>\n",
       "    </tr>\n",
       "    <tr>\n",
       "      <th>10</th>\n",
       "      <td>RegistrationHistory</td>\n",
       "    </tr>\n",
       "    <tr>\n",
       "      <th>11</th>\n",
       "      <td>UnitDictionary</td>\n",
       "    </tr>\n",
       "  </tbody>\n",
       "</table>\n",
       "</div>"
      ],
      "text/plain": [
       "                     name\n",
       "0              CodedEvent\n",
       "1         CodedEventRange\n",
       "2            Consultation\n",
       "3          DataDictionary\n",
       "4    MedicationDictionary\n",
       "5         MedicationIssue\n",
       "6   MedicationSensitivity\n",
       "7            Organisation\n",
       "8                 Patient\n",
       "9          PatientAddress\n",
       "10    RegistrationHistory\n",
       "11         UnitDictionary"
      ]
     },
     "execution_count": 4,
     "metadata": {},
     "output_type": "execute_result"
    }
   ],
   "source": [
    "# select command\n",
    "query = '''select name from sys.objects where type_desc='USER_TABLE' order by name'''\n",
    "df = pd.read_sql(query, cnxn)\n",
    "df"
   ]
  },
  {
   "cell_type": "markdown",
   "metadata": {},
   "source": [
    "## Get random sample of patient ids from TPP data"
   ]
  },
  {
   "cell_type": "code",
   "execution_count": 82,
   "metadata": {},
   "outputs": [
    {
     "data": {
      "text/html": [
       "<div>\n",
       "<style scoped>\n",
       "    .dataframe tbody tr th:only-of-type {\n",
       "        vertical-align: middle;\n",
       "    }\n",
       "\n",
       "    .dataframe tbody tr th {\n",
       "        vertical-align: top;\n",
       "    }\n",
       "\n",
       "    .dataframe thead th {\n",
       "        text-align: right;\n",
       "    }\n",
       "</style>\n",
       "<table border=\"1\" class=\"dataframe\">\n",
       "  <thead>\n",
       "    <tr style=\"text-align: right;\">\n",
       "      <th></th>\n",
       "      <th>DateOfBirth</th>\n",
       "      <th>DateOfDeath</th>\n",
       "      <th>Sex</th>\n",
       "    </tr>\n",
       "    <tr>\n",
       "      <th>Patient_ID</th>\n",
       "      <th></th>\n",
       "      <th></th>\n",
       "      <th></th>\n",
       "    </tr>\n",
       "  </thead>\n",
       "  <tbody>\n",
       "    <tr>\n",
       "      <th>1</th>\n",
       "      <td>1920-01-01</td>\n",
       "      <td>1920-01-01</td>\n",
       "      <td>M</td>\n",
       "    </tr>\n",
       "    <tr>\n",
       "      <th>2</th>\n",
       "      <td>1982-12-01</td>\n",
       "      <td>1982-12-01</td>\n",
       "      <td>F</td>\n",
       "    </tr>\n",
       "    <tr>\n",
       "      <th>3</th>\n",
       "      <td>1919-02-01</td>\n",
       "      <td>1919-02-01</td>\n",
       "      <td>F</td>\n",
       "    </tr>\n",
       "    <tr>\n",
       "      <th>6</th>\n",
       "      <td>1949-07-01</td>\n",
       "      <td>1949-07-01</td>\n",
       "      <td>M</td>\n",
       "    </tr>\n",
       "    <tr>\n",
       "      <th>8</th>\n",
       "      <td>1933-06-01</td>\n",
       "      <td>1933-06-01</td>\n",
       "      <td>M</td>\n",
       "    </tr>\n",
       "    <tr>\n",
       "      <th>...</th>\n",
       "      <td>...</td>\n",
       "      <td>...</td>\n",
       "      <td>...</td>\n",
       "    </tr>\n",
       "    <tr>\n",
       "      <th>247409351</th>\n",
       "      <td>1987-05-01</td>\n",
       "      <td>1987-05-01</td>\n",
       "      <td>F</td>\n",
       "    </tr>\n",
       "    <tr>\n",
       "      <th>247409504</th>\n",
       "      <td>1976-10-01</td>\n",
       "      <td>1976-10-01</td>\n",
       "      <td>F</td>\n",
       "    </tr>\n",
       "    <tr>\n",
       "      <th>247409521</th>\n",
       "      <td>1969-06-01</td>\n",
       "      <td>1969-06-01</td>\n",
       "      <td>F</td>\n",
       "    </tr>\n",
       "    <tr>\n",
       "      <th>247409522</th>\n",
       "      <td>2013-11-01</td>\n",
       "      <td>2013-11-01</td>\n",
       "      <td>M</td>\n",
       "    </tr>\n",
       "    <tr>\n",
       "      <th>247409651</th>\n",
       "      <td>1970-10-01</td>\n",
       "      <td>1970-10-01</td>\n",
       "      <td>M</td>\n",
       "    </tr>\n",
       "  </tbody>\n",
       "</table>\n",
       "<p>68651 rows × 3 columns</p>\n",
       "</div>"
      ],
      "text/plain": [
       "           DateOfBirth DateOfDeath Sex\n",
       "Patient_ID                            \n",
       "1           1920-01-01  1920-01-01   M\n",
       "2           1982-12-01  1982-12-01   F\n",
       "3           1919-02-01  1919-02-01   F\n",
       "6           1949-07-01  1949-07-01   M\n",
       "8           1933-06-01  1933-06-01   M\n",
       "...                ...         ...  ..\n",
       "247409351   1987-05-01  1987-05-01   F\n",
       "247409504   1976-10-01  1976-10-01   F\n",
       "247409521   1969-06-01  1969-06-01   F\n",
       "247409522   2013-11-01  2013-11-01   M\n",
       "247409651   1970-10-01  1970-10-01   M\n",
       "\n",
       "[68651 rows x 3 columns]"
      ]
     },
     "execution_count": 82,
     "metadata": {},
     "output_type": "execute_result"
    }
   ],
   "source": [
    "patient"
   ]
  },
  {
   "cell_type": "code",
   "execution_count": 84,
   "metadata": {},
   "outputs": [
    {
     "data": {
      "text/plain": [
       "Int64Index([   6041, 1421431,   50459, 1359784, 1358280,    8393, 1031144,\n",
       "              48234, 1328276, 1361713,\n",
       "            ...\n",
       "               3363, 1327186, 1221078, 1211471, 1444400, 1316582, 1224315,\n",
       "            1227866,   53091, 1317783],\n",
       "           dtype='int64', name='Patient_ID', length=1000)"
      ]
     },
     "execution_count": 84,
     "metadata": {},
     "output_type": "execute_result"
    }
   ],
   "source": [
    "sql = f\"select * from Patient\"\n",
    "patient = pd.read_sql(sql, cnxn).set_index('Patient_ID')\n",
    "rand_samp = patient.sample(n=1000,random_state=1234).index\n",
    "rand_samp"
   ]
  },
  {
   "cell_type": "markdown",
   "metadata": {},
   "source": [
    "## Make random dates"
   ]
  },
  {
   "cell_type": "code",
   "execution_count": 60,
   "metadata": {},
   "outputs": [],
   "source": [
    "import numpy as np\n",
    "from datetime import datetime, date\n",
    "def random_dates(start, end, n, unit='D', seed=None):\n",
    "    if seed:\n",
    "        np.random.seed(seed)\n",
    "    else:\n",
    "        np.random.seed(0)\n",
    "\n",
    "    ndays = (end - start).days + 1\n",
    "    return start + pd.to_timedelta(\n",
    "        np.random.randint(0, ndays, n), unit=unit\n",
    "    )"
   ]
  },
  {
   "cell_type": "code",
   "execution_count": 45,
   "metadata": {},
   "outputs": [],
   "source": [
    "start = datetime(2020, 2, 1, 0, 0)\n",
    "end = datetime.combine(date.today(), datetime.min.time())"
   ]
  },
  {
   "cell_type": "markdown",
   "metadata": {},
   "source": [
    "## Make table and columns\n",
    "- Estimated date of onset of symptoms\n",
    "- Swab/specimen date\n",
    "- Laboratory test date\n",
    "- Result of laboratory tests (select all that apply): COVID-19, A/H1N1pdm2009, A/H3N2, B, A/non-subtyped, A/unsubtypeable, RSV, other (specify)"
   ]
  },
  {
   "cell_type": "code",
   "execution_count": 89,
   "metadata": {},
   "outputs": [
    {
     "data": {
      "text/html": [
       "<div>\n",
       "<style scoped>\n",
       "    .dataframe tbody tr th:only-of-type {\n",
       "        vertical-align: middle;\n",
       "    }\n",
       "\n",
       "    .dataframe tbody tr th {\n",
       "        vertical-align: top;\n",
       "    }\n",
       "\n",
       "    .dataframe thead th {\n",
       "        text-align: right;\n",
       "    }\n",
       "</style>\n",
       "<table border=\"1\" class=\"dataframe\">\n",
       "  <thead>\n",
       "    <tr style=\"text-align: right;\">\n",
       "      <th></th>\n",
       "      <th>symptom_onset</th>\n",
       "      <th>swab_date</th>\n",
       "      <th>lab_test_date</th>\n",
       "      <th>result</th>\n",
       "    </tr>\n",
       "    <tr>\n",
       "      <th>Patient_ID</th>\n",
       "      <th></th>\n",
       "      <th></th>\n",
       "      <th></th>\n",
       "      <th></th>\n",
       "    </tr>\n",
       "  </thead>\n",
       "  <tbody>\n",
       "    <tr>\n",
       "      <th>6041</th>\n",
       "      <td>2020-03-17</td>\n",
       "      <td>2020-03-24</td>\n",
       "      <td>2020-03-24</td>\n",
       "      <td>A/H1N1pdm2009</td>\n",
       "    </tr>\n",
       "    <tr>\n",
       "      <th>1421431</th>\n",
       "      <td>2020-02-03</td>\n",
       "      <td>2020-02-27</td>\n",
       "      <td>2020-02-27</td>\n",
       "      <td>COVID-19</td>\n",
       "    </tr>\n",
       "    <tr>\n",
       "      <th>50459</th>\n",
       "      <td>2020-02-29</td>\n",
       "      <td>2020-03-03</td>\n",
       "      <td>2020-03-03</td>\n",
       "      <td>COVID-19</td>\n",
       "    </tr>\n",
       "    <tr>\n",
       "      <th>1359784</th>\n",
       "      <td>2020-03-06</td>\n",
       "      <td>2020-03-13</td>\n",
       "      <td>2020-03-13</td>\n",
       "      <td>A/H1N1pdm2009</td>\n",
       "    </tr>\n",
       "    <tr>\n",
       "      <th>1358280</th>\n",
       "      <td>2020-03-10</td>\n",
       "      <td>2020-02-09</td>\n",
       "      <td>2020-02-09</td>\n",
       "      <td>A/H3N2</td>\n",
       "    </tr>\n",
       "  </tbody>\n",
       "</table>\n",
       "</div>"
      ],
      "text/plain": [
       "           symptom_onset  swab_date lab_test_date         result\n",
       "Patient_ID                                                      \n",
       "6041          2020-03-17 2020-03-24    2020-03-24  A/H1N1pdm2009\n",
       "1421431       2020-02-03 2020-02-27    2020-02-27       COVID-19\n",
       "50459         2020-02-29 2020-03-03    2020-03-03       COVID-19\n",
       "1359784       2020-03-06 2020-03-13    2020-03-13  A/H1N1pdm2009\n",
       "1358280       2020-03-10 2020-02-09    2020-02-09         A/H3N2"
      ]
     },
     "execution_count": 89,
     "metadata": {},
     "output_type": "execute_result"
    }
   ],
   "source": [
    "results = ['COVID-19', 'COVID-19', 'COVID-19', 'COVID-19', 'COVID-19', 'COVID-19', 'COVID-19', #so it's mostly covid\n",
    "           'A/H1N1pdm2009',\n",
    "           'A/H3N2',\n",
    "           'B',\n",
    "           'A/non-subtyped',\n",
    "           'A/unsubtypeable',\n",
    "           'RSV',\n",
    "           'other (specify)'\n",
    "          ]\n",
    "\n",
    "chess = pd.DataFrame(index= rand_samp)\n",
    "chess['symptom_onset'] = random_dates(start, end, len(chess),seed=123)\n",
    "chess['swab_date'] = random_dates(start, end, len(chess),seed=321)\n",
    "chess['lab_test_date'] = random_dates(start, end, len(chess),seed=321)\n",
    "chess['result'] = np.random.randint(0, len(results), len(chess))\n",
    "chess['result'] = chess['result'].apply(lambda i: results[i])\n",
    "chess.to_csv('dummy_chess.csv')\n",
    "chess.head()"
   ]
  }
 ],
 "metadata": {
  "jupytext": {
   "cell_metadata_filter": "all",
   "notebook_metadata_filter": "all,-language_info",
   "text_representation": {
    "extension": ".py",
    "format_name": "light",
    "format_version": "1.5",
    "jupytext_version": "1.3.3"
   }
  },
  "kernelspec": {
   "display_name": "Python 3",
   "language": "python",
   "name": "python3"
  },
  "language_info": {
   "codemirror_mode": {
    "name": "ipython",
    "version": 3
   },
   "file_extension": ".py",
   "mimetype": "text/x-python",
   "name": "python",
   "nbconvert_exporter": "python",
   "pygments_lexer": "ipython3",
   "version": "3.8.1"
  }
 },
 "nbformat": 4,
 "nbformat_minor": 4
}
