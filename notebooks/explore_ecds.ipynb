{
 "cells": [
  {
   "cell_type": "code",
   "execution_count": 1,
   "metadata": {},
   "outputs": [],
   "source": [
    "import pyodbc\n",
    "import pandas as pd\n",
    "from IPython.display import display, Markdown\n",
    "import numpy as np\n",
    "from datetime import date\n",
    "from datetime import datetime"
   ]
  },
  {
   "cell_type": "code",
   "execution_count": 2,
   "metadata": {},
   "outputs": [],
   "source": [
    "server = 'covid.ebmdatalab.net,1433'\n",
    "database = 'OPENCoronaExport' \n",
    "username = 'SA'\n",
    "password = 'ahsjdkaJAMSHDA123[' \n",
    "cnxn = pyodbc.connect('DRIVER={ODBC Driver 17 for SQL Server};SERVER='+server+';DATABASE='+database+';UID='+username+';PWD='+ password)\n",
    "cursor = cnxn.cursor()"
   ]
  },
  {
   "cell_type": "markdown",
   "metadata": {},
   "source": [
    "### Inspect columns"
   ]
  },
  {
   "cell_type": "code",
   "execution_count": 3,
   "metadata": {},
   "outputs": [
    {
     "data": {
      "text/plain": [
       "0                                             Patient_ID\n",
       "1                                               EC_Ident\n",
       "2                                       EC_PCD_Indicator\n",
       "3                                               CDS_Type\n",
       "4                                    CDS_Group_Indicator\n",
       "5                                     Finished_Indicator\n",
       "6                                      CDS_Activity_Date\n",
       "7                        CDS_Interchange_Sender_Identity\n",
       "8                           CDS_Prime_Recipient_Identity\n",
       "9                                          Provider_Code\n",
       "10                                     Commissioner_Code\n",
       "11                                        SNOMED_Version\n",
       "12                                     RTT_Period_Status\n",
       "13                            Wait_Time_Measurement_Type\n",
       "14                                 RTT_Period_Start_Date\n",
       "15                                   RTT_Period_End_Date\n",
       "16                                     RTT_Period_Length\n",
       "17                      NHS_Number_Status_Indicator_Code\n",
       "18                                   NHS_Number_Is_Valid\n",
       "19                              Withheld_Identity_Reason\n",
       "20                                        Month_of_Birth\n",
       "21                                         Year_of_Birth\n",
       "22                                          Patient_Type\n",
       "23                              Age_at_CDS_Activity_Date\n",
       "24                                        Age_At_Arrival\n",
       "25                             Fractional_Age_At_Arrival\n",
       "26                                    HES_Age_At_Arrival\n",
       "27                                  HES_Age_At_Departure\n",
       "28                  Index_Of_Multiple_Deprivation_Decile\n",
       "29      Index_Of_Multiple_Deprivation_Decile_Description\n",
       "30                                 Rural_Urban_Indicator\n",
       "31                                       Cancer_Registry\n",
       "32                                                   Sex\n",
       "33                                       Ethnic_Category\n",
       "34                        Accommodation_Status_SNOMED_CT\n",
       "35                    Accommodation_Status_Code_Approved\n",
       "36                   Preferred_Spoken_Language_SNOMED_CT\n",
       "37               Preferred_Spoken_Language_Code_Approved\n",
       "38     Accessible_Information_Professional_Required_S...\n",
       "39     Accessible_Information_Professional_Required_C...\n",
       "40                        Interpreter_Language_SNOMED_CT\n",
       "41                    Interpreter_Language_Code_Approved\n",
       "42                    Overseas_Visitor_Charging_Category\n",
       "43                                Site_Code_of_Treatment\n",
       "44                                    EC_Department_Type\n",
       "45                                          Arrival_Date\n",
       "46                                          Arrival_Time\n",
       "47                                         Arrival_Month\n",
       "48                             EC_Arrival_Mode_SNOMED_CT\n",
       "49                                 Arrival_Mode_Approved\n",
       "50                                 EC_AttendanceCategory\n",
       "51                                       Arrival_Planned\n",
       "52                        EC_Attendance_Source_SNOMED_CT\n",
       "53                        Attendance_Source_Organisation\n",
       "54                            EC_Initial_Assessment_Date\n",
       "55                            EC_Initial_Assessment_Time\n",
       "56              EC_Initial_Assessment_Time_Since_Arrival\n",
       "57                            EC_Seen_For_Treatment_Date\n",
       "58                            EC_Seen_For_Treatment_Time\n",
       "59              EC_Seen_For_Treatment_Time_Since_Arrival\n",
       "60                                    EC_Conclusion_Date\n",
       "61                                    EC_Conclusion_Time\n",
       "62                      EC_Conclusion_Time_Since_Arrival\n",
       "63                                     EC_Departure_Date\n",
       "64                                     EC_Departure_Time\n",
       "65                       EC_Departure_Time_Since_Arrival\n",
       "66                             EC_Decision_To_Admit_Date\n",
       "67                             EC_Decision_To_Admit_Time\n",
       "68               EC_Decision_To_Admit_Time_Since_Arrival\n",
       "69             Decision_To_Admit_Treatment_Function_Code\n",
       "70                      Decision_To_Admit_Receiving_Site\n",
       "71                         EC_Discharge_Status_SNOMED_CT\n",
       "72                          EC_Discharge_Status_Approved\n",
       "73                       Discharge_Destination_SNOMED_CT\n",
       "74                          DischargeDestinationApproved\n",
       "75                         Discharge_Follow_Up_SNOMED_CT\n",
       "76                          Discharge_Follow_Up_Approved\n",
       "77                 Discharge_Information_Given_SNOMED_CT\n",
       "78                  Discharge_Information_Given_Approved\n",
       "79                          EC_Chief_Complaint_SNOMED_CT\n",
       "80                                   EC_Acuity_SNOMED_CT\n",
       "81                                        EC_Injury_Date\n",
       "82                                        EC_Injury_Time\n",
       "83                   EC_Injury_Activity_Status_SNOMED_CT\n",
       "84                     EC_Injury_Activity_Type_SNOMED_CT\n",
       "85                            EC_Injury_Intent_SNOMED_CT\n",
       "86                         EC_Injury_Mechanism_SNOMED_CT\n",
       "87                          EC_Place_Of_Injury_SNOMED_CT\n",
       "88                           EC_Place_Of_Injury_Latitude\n",
       "89                          EC_Place_Of_Injury_Longitude\n",
       "90                                   Clinical_Trial_Code\n",
       "91                         Clinical_Disease_Notification\n",
       "92                                   SUS_Grouper_Version\n",
       "93                             SUS_Code_Cleaning_Applied\n",
       "94                                          SUS_HRG_Code\n",
       "95                                    SUS_Costing_Period\n",
       "96                                          SUS_Excluded\n",
       "97                                            SUS_Tariff\n",
       "98                                SUS_Tariff_Description\n",
       "99                                               SUS_MFF\n",
       "100                                     SUS_MFAdjustment\n",
       "101                                      SUS_Final_Price\n",
       "102                                            Age_Range\n",
       "103               Clinical_Chief_Complaint_Code_Approved\n",
       "104              Clinical_Chief_Complaint_Injury_Related\n",
       "105               Clinical_Chief_Complaint_Extended_Code\n",
       "106                        Clinical_Acuity_Code_Approved\n",
       "107        Clinical_Injury_Activity_Status_Code_Approved\n",
       "108          Clinical_Injury_Activity_Type_Code_Approved\n",
       "109                 Clinical_Injury_Intent_Code_Approved\n",
       "110                  Clinical_Injury_Place_Type_Approved\n",
       "111                          DQ_Chief_Complaint_Expected\n",
       "112                         DQ_Chief_Complaint_Completed\n",
       "113                             DQ_Chief_Complaint_Valid\n",
       "114                        DQ_Primary_Diagnosis_Expected\n",
       "115                       DQ_Primary_Diagnosis_Completed\n",
       "116                           DQ_Primary_Diagnosis_Valid\n",
       "117                                           Exclusions\n",
       "118                                    Reason_For_Access\n",
       "119                                    Der_Provider_Code\n",
       "120                               Der_Provider_Site_Code\n",
       "121                                Der_Commissioner_Code\n",
       "122                         Der_Age_At_CDS_Activity_Date\n",
       "123                                   Der_Activity_Month\n",
       "124                                   Der_Financial_Year\n",
       "125                             Der_Number_AEA_Diagnosis\n",
       "126                              Der_Number_EC_Diagnosis\n",
       "127                         Der_Number_AEA_Investigation\n",
       "128                          Der_Number_EC_Investigation\n",
       "129                             Der_Number_AEA_Treatment\n",
       "130                              Der_Number_EC_Treatment\n",
       "131                                Der_AEA_Diagnosis_All\n",
       "132                                 Der_EC_Diagnosis_All\n",
       "133                            Der_AEA_Investigation_All\n",
       "134                             Der_EC_Investigation_All\n",
       "135                                Der_AEA_Treatment_All\n",
       "136                                 Der_EC_Treatment_All\n",
       "137                             Der_EC_Arrival_Date_Time\n",
       "138                           Der_EC_Departure_Date_Time\n",
       "139                                      Der_EC_Duration\n",
       "140                                        Der_Dupe_Flag\n",
       "141                                      Der_Record_Type\n",
       "142                                Der_AEA_Patient_Group\n",
       "dtype: object"
      ]
     },
     "execution_count": 3,
     "metadata": {},
     "output_type": "execute_result"
    }
   ],
   "source": [
    "# increase column display limit so that we can see all rows in summary data\n",
    "sql = '''-- main ecds table\n",
    "select TOP 1 *\n",
    "from ECDS\n",
    "'''\n",
    "\n",
    "ecds = pd.read_sql(sql, cnxn)\n",
    "pd.set_option('display.max_rows', 200)\n",
    "\n",
    "pd.Series(ecds.columns)"
   ]
  },
  {
   "cell_type": "markdown",
   "metadata": {},
   "source": [
    "### Main ECDS table"
   ]
  },
  {
   "cell_type": "code",
   "execution_count": 4,
   "metadata": {},
   "outputs": [
    {
     "data": {
      "text/markdown": [
       "**ECDS Summary**"
      ],
      "text/plain": [
       "<IPython.core.display.Markdown object>"
      ]
     },
     "metadata": {},
     "output_type": "display_data"
    },
    {
     "name": "stdout",
     "output_type": "stream",
     "text": [
      "No of patients:  1\n",
      "No of patients admitted:  0\n",
      "Latest date:  2018-09-23 00:00:00\n"
     ]
    }
   ],
   "source": [
    "sql = '''-- main ecds table\n",
    "select Patient_ID, \n",
    "max(EC_Conclusion_Date) as EC_Conclusion_Date_latest,\n",
    "max(EC_Decision_To_Admit_Date) as EC_admit_date_latest\n",
    "from ECDS e\n",
    "group by Patient_ID\n",
    "'''\n",
    "\n",
    "ecds = pd.read_sql(sql, cnxn)\n",
    "ecds[\"ecds_flag\"] = 1\n",
    "ecds[\"admit_flag\"] = np.where(pd.notnull(ecds[\"EC_admit_date_latest\"]), 1, 0)\n",
    "ecds[\"EC_Conclusion_Date_latest\"] = pd.to_datetime(ecds[\"EC_Conclusion_Date_latest\"])\n",
    "\n",
    "display(Markdown(f\"**ECDS Summary**\"))\n",
    "print(\"No of patients: \", ecds[\"Patient_ID\"].nunique())\n",
    "print(\"No of patients admitted: \", ecds[\"admit_flag\"].sum())\n",
    "print(\"Latest date: \", ecds[\"EC_Conclusion_Date_latest\"].max())"
   ]
  },
  {
   "cell_type": "markdown",
   "metadata": {},
   "source": [
    "### ECDS diagnosis"
   ]
  },
  {
   "cell_type": "code",
   "execution_count": 5,
   "metadata": {},
   "outputs": [
    {
     "data": {
      "text/markdown": [
       "**ECDS Diagnosis Summary**"
      ],
      "text/plain": [
       "<IPython.core.display.Markdown object>"
      ]
     },
     "metadata": {},
     "output_type": "display_data"
    },
    {
     "name": "stdout",
     "output_type": "stream",
     "text": [
      "No of patients:  0\n"
     ]
    }
   ],
   "source": [
    "sql = '''-- ecds diagnoses:\n",
    "select distinct Patient_ID\n",
    "from ECDS_EC_Diagnoses\n",
    "where LEFT(DiagnosisCode,15) = '124075100000010'\n",
    "'''\n",
    "\n",
    "d = pd.read_sql(sql, cnxn)\n",
    "d[\"diagnosis_flag\"] = 1\n",
    "\n",
    "display(Markdown(f\"**ECDS Diagnosis Summary**\"))\n",
    "print(\"No of patients: \", d[\"Patient_ID\"].nunique())\n",
    "\n",
    "## empty table"
   ]
  },
  {
   "cell_type": "markdown",
   "metadata": {},
   "source": [
    "### Positive in SGSS"
   ]
  },
  {
   "cell_type": "code",
   "execution_count": 6,
   "metadata": {},
   "outputs": [
    {
     "data": {
      "text/markdown": [
       "**SGSS Positive Summary**"
      ],
      "text/plain": [
       "<IPython.core.display.Markdown object>"
      ]
     },
     "metadata": {},
     "output_type": "display_data"
    },
    {
     "name": "stdout",
     "output_type": "stream",
     "text": [
      "No of patients:  7\n",
      "Latest lab result date:  2020-04-23 00:00:00\n"
     ]
    }
   ],
   "source": [
    "sql = '''-- SGSS positives:\n",
    "select DISTINCT Patient_ID, max(Lab_Report_Date) as pos_Lab_Report_Date_latest, count(*) AS positives\n",
    "from SGSS_Positive\n",
    "group by Patient_ID\n",
    "'''\n",
    "p = pd.read_sql(sql, cnxn)\n",
    "p[\"positive_flag\"] = 1\n",
    "p[\"pos_Lab_Report_Date_latest\"] = pd.to_datetime(p[\"pos_Lab_Report_Date_latest\"])\n",
    "\n",
    "display(Markdown(f\"**SGSS Positive Summary**\"))\n",
    "print(\"No of patients: \", p[\"Patient_ID\"].nunique())\n",
    "print(\"Latest lab result date: \", p[\"pos_Lab_Report_Date_latest\"].max())"
   ]
  },
  {
   "cell_type": "markdown",
   "metadata": {},
   "source": [
    "### Negative in SGSS"
   ]
  },
  {
   "cell_type": "code",
   "execution_count": 7,
   "metadata": {},
   "outputs": [
    {
     "data": {
      "text/markdown": [
       "**SGSS Negative Summary**"
      ],
      "text/plain": [
       "<IPython.core.display.Markdown object>"
      ]
     },
     "metadata": {},
     "output_type": "display_data"
    },
    {
     "name": "stdout",
     "output_type": "stream",
     "text": [
      "No of patients:  7\n",
      "Latest lab result date:  2020-04-23 00:00:00\n"
     ]
    }
   ],
   "source": [
    "sql = '''\n",
    "-- SGSS negatives:\n",
    "select Patient_ID, max(Lab_Report_Date) as neg_Lab_Report_Date_latest, count(*) AS negatives\n",
    "from SGSS_Negative\n",
    "group by Patient_ID\n",
    "'''\n",
    "\n",
    "n = pd.read_sql(sql, cnxn)\n",
    "n[\"negative_flag\"] = 1\n",
    "n[\"neg_Lab_Report_Date_latest\"] = pd.to_datetime(n[\"neg_Lab_Report_Date_latest\"])\n",
    "\n",
    "display(Markdown(f\"**SGSS Negative Summary**\"))\n",
    "print(\"No of patients: \", n[\"Patient_ID\"].nunique())\n",
    "print(\"Latest lab result date: \", n[\"neg_Lab_Report_Date_latest\"].max())"
   ]
  },
  {
   "cell_type": "markdown",
   "metadata": {},
   "source": [
    "## ICU"
   ]
  },
  {
   "cell_type": "code",
   "execution_count": 8,
   "metadata": {},
   "outputs": [
    {
     "data": {
      "text/markdown": [
       "**ICNARC (ICU) Summary**"
      ],
      "text/plain": [
       "<IPython.core.display.Markdown object>"
      ]
     },
     "metadata": {},
     "output_type": "display_data"
    },
    {
     "name": "stdout",
     "output_type": "stream",
     "text": [
      "No of patients:  6\n",
      "Latest date:  2020-03-03 14:30:00\n"
     ]
    }
   ],
   "source": [
    "sql = '''-- icnarc ICU admissions\n",
    "select Patient_ID, \n",
    "max(IcuAdmissionDateTime) as IcuAdmissionDateTime_latest\n",
    "from ICNARC\n",
    "group by Patient_ID\n",
    "'''\n",
    "\n",
    "icu = pd.read_sql(sql, cnxn)\n",
    "icu[\"icu_flag\"] = 1\n",
    "icu[\"IcuAdmissionDateTime_latest\"] = pd.to_datetime(icu[\"IcuAdmissionDateTime_latest\"], unit='D', format=\"%d/%m/%Y\")\n",
    "\n",
    "display(Markdown(f\"**ICNARC (ICU) Summary**\"))\n",
    "print(\"No of patients: \", icu[\"Patient_ID\"].nunique())\n",
    "print(\"Latest date: \", icu[\"IcuAdmissionDateTime_latest\"].max())"
   ]
  },
  {
   "cell_type": "markdown",
   "metadata": {},
   "source": [
    "## How many patients in ECDS have a positive or negative result in SGSS"
   ]
  },
  {
   "cell_type": "markdown",
   "metadata": {},
   "source": [
    "**first check how well periods overlap:**"
   ]
  },
  {
   "cell_type": "code",
   "execution_count": 9,
   "metadata": {},
   "outputs": [
    {
     "name": "stdout",
     "output_type": "stream",
     "text": [
      "ECDS max date:  2018-09-23 00:00:00 ,   583  days ago\n",
      "SGSS max date:  2020-04-23 00:00:00 ,   5  days ago\n",
      "ICU max admit date:  2020-03-03 14:30:00 ,   56  days ago\n"
     ]
    }
   ],
   "source": [
    "def days_ago(DT=datetime(2020,3,3)):\n",
    "    return (date.today()-datetime.date(DT)).days\n",
    "\n",
    "print (\"ECDS max date: \", ecds[\"EC_Conclusion_Date_latest\"].max(), \",  \", days_ago(ecds[\"EC_Conclusion_Date_latest\"].max()), \" days ago\")\n",
    "print (\"SGSS max date: \", p[\"pos_Lab_Report_Date_latest\"].max(), \",  \", days_ago(p[\"pos_Lab_Report_Date_latest\"].max()), \" days ago\")\n",
    "print (\"ICU max admit date: \", icu[\"IcuAdmissionDateTime_latest\"].max(), \",  \", days_ago(icu[\"IcuAdmissionDateTime_latest\"].max()), \" days ago\")"
   ]
  },
  {
   "cell_type": "code",
   "execution_count": 10,
   "metadata": {},
   "outputs": [
    {
     "data": {
      "text/markdown": [
       "**ECDS Summary**"
      ],
      "text/plain": [
       "<IPython.core.display.Markdown object>"
      ]
     },
     "metadata": {},
     "output_type": "display_data"
    },
    {
     "name": "stdout",
     "output_type": "stream",
     "text": [
      "No of patients in ECDS:  1.0\n",
      "No of patients in ECDS who were admitted:  0.0\n",
      "Patients with covid diagnosis recorded: 0.0 ( 0.0 % ) \n",
      "\n",
      "Latest date:  2018-09-23 00:00:00 ,  583 days ago \n",
      "\n"
     ]
    },
    {
     "data": {
      "text/markdown": [
       "**ICNARC (ICU) Summary**"
      ],
      "text/plain": [
       "<IPython.core.display.Markdown object>"
      ]
     },
     "metadata": {},
     "output_type": "display_data"
    },
    {
     "name": "stdout",
     "output_type": "stream",
     "text": [
      "No of patients in ICNARC:  6.0\n",
      "Latest date:  2020-03-03 14:30:00 ,  56 days ago \n",
      "\n"
     ]
    },
    {
     "data": {
      "text/markdown": [
       "**SGSS Summary**"
      ],
      "text/plain": [
       "<IPython.core.display.Markdown object>"
      ]
     },
     "metadata": {},
     "output_type": "display_data"
    },
    {
     "name": "stdout",
     "output_type": "stream",
     "text": [
      "Total patients in SGSS:  14\n",
      "Latest date:  2020-04-23 00:00:00 ,  5 days ago \n",
      "\n",
      "Total positive results:  7.0\n",
      "No of patients with at least one positive result:  7.0 ( 50.0 % )\n",
      "Total negative results:  7.0\n",
      "No of patients with at least one negative result:  7.0 ( 50.0 % )\n",
      "No of patients with at least one positive AND negative result:  0 ( 0.0 % )\n",
      "\n"
     ]
    },
    {
     "data": {
      "text/markdown": [
       "**ECDS/SGSS/ICU Summary**"
      ],
      "text/plain": [
       "<IPython.core.display.Markdown object>"
      ]
     },
     "metadata": {},
     "output_type": "display_data"
    },
    {
     "name": "stdout",
     "output_type": "stream",
     "text": [
      "ECDS patients with positive lab results: 0 ( 0.0 % )\n",
      "ECDS patients with any covid diagnosis and positive lab result: 0 ( 0.0 % )\n",
      "ECDS patients with no lab results: 1 ( 100.0 % )\n",
      "\n",
      "No of patients in SGSS not in A&E (ECDS):  14 ( 100.0 % )\n",
      "\n",
      "No of patients in ICU not in A&E (ECDS):  5 ( 83.0 % )\n",
      "No of patients in ICU not in SGSS:  6 ( 100.0 % )\n",
      "\n"
     ]
    }
   ],
   "source": [
    "def merge_data(ecds, p, n, d, icu):\n",
    "    e2 = ecds.merge(p, on=\"Patient_ID\", how=\"outer\")\n",
    "    e2 = e2.merge(n, on=\"Patient_ID\", how=\"outer\")\n",
    "    e2 = e2.merge(d, on=\"Patient_ID\", how=\"left\")\n",
    "    e2 = e2.merge(icu, on=\"Patient_ID\", how=\"outer\")\n",
    "\n",
    "    # replace nulls:\n",
    "    # first for date columns\n",
    "    cols = [\"EC_Conclusion_Date_latest\",\"pos_Lab_Report_Date_latest\",\"neg_Lab_Report_Date_latest\", \"IcuAdmissionDateTime_latest\", \"EC_admit_date_latest\"]\n",
    "    for c in cols:\n",
    "        e2[c].fillna(datetime(1900,1,1), inplace=True)\n",
    "    # other columns\n",
    "    e2.fillna(0, inplace=True)\n",
    "\n",
    "    # create additional flags\n",
    "    e2[\"sgss_flag\"] = np.where(e2[\"positive_flag\"]+e2[\"negative_flag\"]>0, 1, 0)\n",
    "    e2[\"pos_neg_flag\"] = np.where((e2[\"positive_flag\"]>0)&(e2[\"negative_flag\"]>0), 1, 0)\n",
    "    e2[\"ecds_no_sgss_flag\"] = np.where( (e2[\"ecds_flag\"]==1)&(e2[\"sgss_flag\"]==0), 1, 0)\n",
    "    e2[\"sgss_no_ecds_flag\"] = np.where( (e2[\"ecds_flag\"]==0)&(e2[\"sgss_flag\"]==1), 1, 0)\n",
    "    e2[\"icu_no_ecds_flag\"] = np.where( (e2[\"ecds_flag\"]==0)&(e2[\"icu_flag\"]==1), 1, 0)\n",
    "    e2[\"icu_no_sgss_flag\"] = np.where( (e2[\"sgss_flag\"]==0)&(e2[\"icu_flag\"]==1), 1, 0)\n",
    "    e2[\"ecds_and_positive_flag\"] = np.where(e2[\"positive_flag\"]+e2[\"ecds_flag\"]==2, 1, 0)\n",
    "    e2[\"ecds_diagnosed_and_admitted_flag\"] = np.where((e2[\"ecds_flag\"]==1)&(e2[\"diagnosis_flag\"]==1)&(e2[\"admit_flag\"]==1), 1, 0)\n",
    "    e2[\"diagnosis_and_positive_flag\"] = np.where(e2[\"positive_flag\"]+e2[\"diagnosis_flag\"]==2, 1, 0)\n",
    "\n",
    "    # patient counts and percentage calculations\n",
    "    ecds_patient_count = e2[\"ecds_flag\"].sum()\n",
    "    sgss_patient_count = e2[\"sgss_flag\"].sum()\n",
    "    icu_patient_count = e2[\"icu_flag\"].sum()\n",
    "    \n",
    "    return e2, ecds_patient_count, sgss_patient_count, icu_patient_count\n",
    "\n",
    "e2, ecds_patient_count, sgss_patient_count, icu_patient_count = merge_data(ecds, p, n, d, icu)\n",
    "\n",
    "def ecds_percentage(x=1):\n",
    "    return round(100*x/ecds_patient_count,0)\n",
    "\n",
    "def sgss_percentage(x=1):\n",
    "    return round(100*x/sgss_patient_count,0)\n",
    "\n",
    "def icu_percentage(x=1):\n",
    "    return round(100*x/icu_patient_count,0)\n",
    "\n",
    "\n",
    "# print summary information\n",
    "def summary_info(e2, ecds_patient_count, sgss_patient_count, icu_patient_count):    \n",
    "    display(Markdown(f\"**ECDS Summary**\"))\n",
    "    print(\"No of patients in ECDS: \", ecds_patient_count)\n",
    "    print(\"No of patients in ECDS who were admitted: \", e2[\"admit_flag\"].sum())\n",
    "    print(\"Patients with covid diagnosis recorded:\", e2[\"diagnosis_flag\"].sum(), \"(\", ecds_percentage(e2[\"diagnosis_flag\"].sum()), \"% ) \\n\")\n",
    "    print(\"Latest date: \", e2[\"EC_Conclusion_Date_latest\"].max(),  \", \" , days_ago(e2[\"EC_Conclusion_Date_latest\"].max()), \"days ago \\n\")\n",
    "\n",
    "    display(Markdown(f\"**ICNARC (ICU) Summary**\"))\n",
    "    print(\"No of patients in ICNARC: \", icu_patient_count)\n",
    "    print(\"Latest date: \", e2[\"IcuAdmissionDateTime_latest\"].max(),  \", \" , days_ago(e2[\"IcuAdmissionDateTime_latest\"].max()), \"days ago \\n\")\n",
    "\n",
    "\n",
    "    display(Markdown(f\"**SGSS Summary**\"))\n",
    "    print(\"Total patients in SGSS: \", sgss_patient_count)\n",
    "    print(\"Latest date: \", e2[\"pos_Lab_Report_Date_latest\"].max(),  \", \" , days_ago(e2[\"pos_Lab_Report_Date_latest\"].max()), \"days ago \\n\")\n",
    "\n",
    "    print(\"Total positive results: \", e2[\"positives\"].sum())\n",
    "    print(\"No of patients with at least one positive result: \", e2[\"positive_flag\"].sum(), \n",
    "          \"(\", sgss_percentage(e2[\"positive_flag\"].sum()), \"% )\")\n",
    "\n",
    "    print(\"Total negative results: \", e2[\"negatives\"].sum())\n",
    "    print(\"No of patients with at least one negative result: \", e2[\"negative_flag\"].sum(), \n",
    "          \"(\", sgss_percentage(e2[\"negative_flag\"].sum()), \"% )\")\n",
    "\n",
    "    print(\"No of patients with at least one positive AND negative result: \", e2[\"pos_neg_flag\"].sum(), \n",
    "          \"(\", sgss_percentage(e2[\"pos_neg_flag\"].sum()), \"% )\\n\")\n",
    "\n",
    "\n",
    "\n",
    "    display(Markdown(f\"**ECDS/SGSS/ICU Summary**\"))\n",
    "\n",
    "    print(\"ECDS patients with positive lab results:\", e2[\"ecds_and_positive_flag\"].sum(),\n",
    "          \"(\", ecds_percentage(e2[\"ecds_and_positive_flag\"].sum()), \"% )\")\n",
    "\n",
    "    print(\"ECDS patients with any covid diagnosis and positive lab result:\", \n",
    "          e2[\"diagnosis_and_positive_flag\"].sum(), \"(\", ecds_percentage(e2[\"diagnosis_and_positive_flag\"].sum()), \"% )\")\n",
    "\n",
    "    print(\"ECDS patients with no lab results:\", e2[\"ecds_no_sgss_flag\"].sum(),\n",
    "         \"(\", ecds_percentage(e2[\"ecds_no_sgss_flag\"].sum()), \"% )\\n\")\n",
    "\n",
    "    print(\"No of patients in SGSS not in A&E (ECDS): \", e2[\"sgss_no_ecds_flag\"].sum(), \n",
    "          \"(\", sgss_percentage(e2[\"sgss_no_ecds_flag\"].sum()), \"% )\\n\")\n",
    "\n",
    "    print(\"No of patients in ICU not in A&E (ECDS): \", e2[\"icu_no_ecds_flag\"].sum(), \n",
    "          \"(\", icu_percentage(e2[\"icu_no_ecds_flag\"].sum()), \"% )\")\n",
    "\n",
    "    print(\"No of patients in ICU not in SGSS: \", e2[\"icu_no_sgss_flag\"].sum(), \n",
    "          \"(\", icu_percentage(e2[\"icu_no_sgss_flag\"].sum()), \"% )\\n\")\n",
    "\n",
    "summary_info(e2, ecds_patient_count, sgss_patient_count, icu_patient_count)"
   ]
  },
  {
   "cell_type": "markdown",
   "metadata": {},
   "source": [
    "# Weekly date cut-offs"
   ]
  },
  {
   "cell_type": "code",
   "execution_count": 11,
   "metadata": {},
   "outputs": [
    {
     "data": {
      "text/html": [
       "<div>\n",
       "<style scoped>\n",
       "    .dataframe tbody tr th:only-of-type {\n",
       "        vertical-align: middle;\n",
       "    }\n",
       "\n",
       "    .dataframe tbody tr th {\n",
       "        vertical-align: top;\n",
       "    }\n",
       "\n",
       "    .dataframe thead th {\n",
       "        text-align: right;\n",
       "    }\n",
       "</style>\n",
       "<table border=\"1\" class=\"dataframe\">\n",
       "  <thead>\n",
       "    <tr style=\"text-align: right;\">\n",
       "      <th></th>\n",
       "      <th>week_no</th>\n",
       "      <th>date</th>\n",
       "    </tr>\n",
       "  </thead>\n",
       "  <tbody>\n",
       "    <tr>\n",
       "      <th>0</th>\n",
       "      <td>-1</td>\n",
       "      <td>2020-04-16</td>\n",
       "    </tr>\n",
       "    <tr>\n",
       "      <th>1</th>\n",
       "      <td>-2</td>\n",
       "      <td>2020-04-09</td>\n",
       "    </tr>\n",
       "    <tr>\n",
       "      <th>2</th>\n",
       "      <td>-3</td>\n",
       "      <td>2020-04-02</td>\n",
       "    </tr>\n",
       "    <tr>\n",
       "      <th>3</th>\n",
       "      <td>-4</td>\n",
       "      <td>2020-03-26</td>\n",
       "    </tr>\n",
       "  </tbody>\n",
       "</table>\n",
       "</div>"
      ],
      "text/plain": [
       "   week_no       date\n",
       "0       -1 2020-04-16\n",
       "1       -2 2020-04-09\n",
       "2       -3 2020-04-02\n",
       "3       -4 2020-03-26"
      ]
     },
     "execution_count": 11,
     "metadata": {},
     "output_type": "execute_result"
    }
   ],
   "source": [
    "# create list of weekly dates to assess\n",
    "\n",
    "latest_date = max(ecds[\"EC_Conclusion_Date_latest\"].max(), p[\"pos_Lab_Report_Date_latest\"].max(), icu[\"IcuAdmissionDateTime_latest\"].max())\n",
    "\n",
    "l = []\n",
    "for i in range(4):\n",
    "     l.append( [-i-1, latest_date + pd.Timedelta(days=-7*i-7)] )\n",
    "\n",
    "l = pd.DataFrame(l, columns=[\"week_no\", \"date\"])\n",
    "l"
   ]
  },
  {
   "cell_type": "code",
   "execution_count": 12,
   "metadata": {},
   "outputs": [
    {
     "data": {
      "text/markdown": [
       "# Cut-off date: 2020-04-16"
      ],
      "text/plain": [
       "<IPython.core.display.Markdown object>"
      ]
     },
     "metadata": {},
     "output_type": "display_data"
    },
    {
     "data": {
      "text/markdown": [
       "**ECDS Summary**"
      ],
      "text/plain": [
       "<IPython.core.display.Markdown object>"
      ]
     },
     "metadata": {},
     "output_type": "display_data"
    },
    {
     "name": "stdout",
     "output_type": "stream",
     "text": [
      "No of patients in ECDS:  1.0\n",
      "No of patients in ECDS who were admitted:  0.0\n",
      "Patients with covid diagnosis recorded: 0.0 ( 0.0 % ) \n",
      "\n",
      "Latest date:  2018-09-23 00:00:00 ,  583 days ago \n",
      "\n"
     ]
    },
    {
     "data": {
      "text/markdown": [
       "**ICNARC (ICU) Summary**"
      ],
      "text/plain": [
       "<IPython.core.display.Markdown object>"
      ]
     },
     "metadata": {},
     "output_type": "display_data"
    },
    {
     "name": "stdout",
     "output_type": "stream",
     "text": [
      "No of patients in ICNARC:  6.0\n",
      "Latest date:  2020-03-03 14:30:00 ,  56 days ago \n",
      "\n"
     ]
    },
    {
     "data": {
      "text/markdown": [
       "**SGSS Summary**"
      ],
      "text/plain": [
       "<IPython.core.display.Markdown object>"
      ]
     },
     "metadata": {},
     "output_type": "display_data"
    },
    {
     "name": "stdout",
     "output_type": "stream",
     "text": [
      "Total patients in SGSS:  10\n",
      "Latest date:  2020-04-15 00:00:00 ,  13 days ago \n",
      "\n",
      "Total positive results:  5.0\n",
      "No of patients with at least one positive result:  5.0 ( 50.0 % )\n",
      "Total negative results:  5.0\n",
      "No of patients with at least one negative result:  5.0 ( 50.0 % )\n",
      "No of patients with at least one positive AND negative result:  0 ( 0.0 % )\n",
      "\n"
     ]
    },
    {
     "data": {
      "text/markdown": [
       "**ECDS/SGSS/ICU Summary**"
      ],
      "text/plain": [
       "<IPython.core.display.Markdown object>"
      ]
     },
     "metadata": {},
     "output_type": "display_data"
    },
    {
     "name": "stdout",
     "output_type": "stream",
     "text": [
      "ECDS patients with positive lab results: 0 ( 0.0 % )\n",
      "ECDS patients with any covid diagnosis and positive lab result: 0 ( 0.0 % )\n",
      "ECDS patients with no lab results: 1 ( 100.0 % )\n",
      "\n",
      "No of patients in SGSS not in A&E (ECDS):  10 ( 100.0 % )\n",
      "\n",
      "No of patients in ICU not in A&E (ECDS):  5 ( 83.0 % )\n",
      "No of patients in ICU not in SGSS:  6 ( 100.0 % )\n",
      "\n"
     ]
    },
    {
     "data": {
      "text/markdown": [
       "# Cut-off date: 2020-04-09"
      ],
      "text/plain": [
       "<IPython.core.display.Markdown object>"
      ]
     },
     "metadata": {},
     "output_type": "display_data"
    },
    {
     "data": {
      "text/markdown": [
       "**ECDS Summary**"
      ],
      "text/plain": [
       "<IPython.core.display.Markdown object>"
      ]
     },
     "metadata": {},
     "output_type": "display_data"
    },
    {
     "name": "stdout",
     "output_type": "stream",
     "text": [
      "No of patients in ECDS:  1.0\n",
      "No of patients in ECDS who were admitted:  0.0\n",
      "Patients with covid diagnosis recorded: 0.0 ( 0.0 % ) \n",
      "\n",
      "Latest date:  2018-09-23 00:00:00 ,  583 days ago \n",
      "\n"
     ]
    },
    {
     "data": {
      "text/markdown": [
       "**ICNARC (ICU) Summary**"
      ],
      "text/plain": [
       "<IPython.core.display.Markdown object>"
      ]
     },
     "metadata": {},
     "output_type": "display_data"
    },
    {
     "name": "stdout",
     "output_type": "stream",
     "text": [
      "No of patients in ICNARC:  6.0\n",
      "Latest date:  2020-03-03 14:30:00 ,  56 days ago \n",
      "\n"
     ]
    },
    {
     "data": {
      "text/markdown": [
       "**SGSS Summary**"
      ],
      "text/plain": [
       "<IPython.core.display.Markdown object>"
      ]
     },
     "metadata": {},
     "output_type": "display_data"
    },
    {
     "name": "stdout",
     "output_type": "stream",
     "text": [
      "Total patients in SGSS:  8\n",
      "Latest date:  2020-04-07 00:00:00 ,  21 days ago \n",
      "\n",
      "Total positive results:  4.0\n",
      "No of patients with at least one positive result:  4.0 ( 50.0 % )\n",
      "Total negative results:  4.0\n",
      "No of patients with at least one negative result:  4.0 ( 50.0 % )\n",
      "No of patients with at least one positive AND negative result:  0 ( 0.0 % )\n",
      "\n"
     ]
    },
    {
     "data": {
      "text/markdown": [
       "**ECDS/SGSS/ICU Summary**"
      ],
      "text/plain": [
       "<IPython.core.display.Markdown object>"
      ]
     },
     "metadata": {},
     "output_type": "display_data"
    },
    {
     "name": "stdout",
     "output_type": "stream",
     "text": [
      "ECDS patients with positive lab results: 0 ( 0.0 % )\n",
      "ECDS patients with any covid diagnosis and positive lab result: 0 ( 0.0 % )\n",
      "ECDS patients with no lab results: 1 ( 100.0 % )\n",
      "\n",
      "No of patients in SGSS not in A&E (ECDS):  8 ( 100.0 % )\n",
      "\n",
      "No of patients in ICU not in A&E (ECDS):  5 ( 83.0 % )\n",
      "No of patients in ICU not in SGSS:  6 ( 100.0 % )\n",
      "\n"
     ]
    },
    {
     "data": {
      "text/markdown": [
       "# Cut-off date: 2020-04-02"
      ],
      "text/plain": [
       "<IPython.core.display.Markdown object>"
      ]
     },
     "metadata": {},
     "output_type": "display_data"
    },
    {
     "data": {
      "text/markdown": [
       "**ECDS Summary**"
      ],
      "text/plain": [
       "<IPython.core.display.Markdown object>"
      ]
     },
     "metadata": {},
     "output_type": "display_data"
    },
    {
     "name": "stdout",
     "output_type": "stream",
     "text": [
      "No of patients in ECDS:  1.0\n",
      "No of patients in ECDS who were admitted:  0.0\n",
      "Patients with covid diagnosis recorded: 0.0 ( 0.0 % ) \n",
      "\n",
      "Latest date:  2018-09-23 00:00:00 ,  583 days ago \n",
      "\n"
     ]
    },
    {
     "data": {
      "text/markdown": [
       "**ICNARC (ICU) Summary**"
      ],
      "text/plain": [
       "<IPython.core.display.Markdown object>"
      ]
     },
     "metadata": {},
     "output_type": "display_data"
    },
    {
     "name": "stdout",
     "output_type": "stream",
     "text": [
      "No of patients in ICNARC:  6.0\n",
      "Latest date:  2020-03-03 14:30:00 ,  56 days ago \n",
      "\n"
     ]
    },
    {
     "data": {
      "text/markdown": [
       "**SGSS Summary**"
      ],
      "text/plain": [
       "<IPython.core.display.Markdown object>"
      ]
     },
     "metadata": {},
     "output_type": "display_data"
    },
    {
     "name": "stdout",
     "output_type": "stream",
     "text": [
      "Total patients in SGSS:  4\n",
      "Latest date:  2020-03-29 00:00:00 ,  30 days ago \n",
      "\n",
      "Total positive results:  2.0\n",
      "No of patients with at least one positive result:  2.0 ( 50.0 % )\n",
      "Total negative results:  2.0\n",
      "No of patients with at least one negative result:  2.0 ( 50.0 % )\n",
      "No of patients with at least one positive AND negative result:  0 ( 0.0 % )\n",
      "\n"
     ]
    },
    {
     "data": {
      "text/markdown": [
       "**ECDS/SGSS/ICU Summary**"
      ],
      "text/plain": [
       "<IPython.core.display.Markdown object>"
      ]
     },
     "metadata": {},
     "output_type": "display_data"
    },
    {
     "name": "stdout",
     "output_type": "stream",
     "text": [
      "ECDS patients with positive lab results: 0 ( 0.0 % )\n",
      "ECDS patients with any covid diagnosis and positive lab result: 0 ( 0.0 % )\n",
      "ECDS patients with no lab results: 1 ( 100.0 % )\n",
      "\n",
      "No of patients in SGSS not in A&E (ECDS):  4 ( 100.0 % )\n",
      "\n",
      "No of patients in ICU not in A&E (ECDS):  5 ( 83.0 % )\n",
      "No of patients in ICU not in SGSS:  6 ( 100.0 % )\n",
      "\n"
     ]
    },
    {
     "data": {
      "text/markdown": [
       "# Cut-off date: 2020-03-26"
      ],
      "text/plain": [
       "<IPython.core.display.Markdown object>"
      ]
     },
     "metadata": {},
     "output_type": "display_data"
    },
    {
     "data": {
      "text/markdown": [
       "**ECDS Summary**"
      ],
      "text/plain": [
       "<IPython.core.display.Markdown object>"
      ]
     },
     "metadata": {},
     "output_type": "display_data"
    },
    {
     "name": "stdout",
     "output_type": "stream",
     "text": [
      "No of patients in ECDS:  1.0\n",
      "No of patients in ECDS who were admitted:  0.0\n",
      "Patients with covid diagnosis recorded: 0.0 ( 0.0 % ) \n",
      "\n",
      "Latest date:  2018-09-23 00:00:00 ,  583 days ago \n",
      "\n"
     ]
    },
    {
     "data": {
      "text/markdown": [
       "**ICNARC (ICU) Summary**"
      ],
      "text/plain": [
       "<IPython.core.display.Markdown object>"
      ]
     },
     "metadata": {},
     "output_type": "display_data"
    },
    {
     "name": "stdout",
     "output_type": "stream",
     "text": [
      "No of patients in ICNARC:  6.0\n",
      "Latest date:  2020-03-03 14:30:00 ,  56 days ago \n",
      "\n"
     ]
    },
    {
     "data": {
      "text/markdown": [
       "**SGSS Summary**"
      ],
      "text/plain": [
       "<IPython.core.display.Markdown object>"
      ]
     },
     "metadata": {},
     "output_type": "display_data"
    },
    {
     "name": "stdout",
     "output_type": "stream",
     "text": [
      "Total patients in SGSS:  2\n",
      "Latest date:  2020-03-25 00:00:00 ,  34 days ago \n",
      "\n",
      "Total positive results:  1.0\n",
      "No of patients with at least one positive result:  1.0 ( 50.0 % )\n",
      "Total negative results:  1.0\n",
      "No of patients with at least one negative result:  1.0 ( 50.0 % )\n",
      "No of patients with at least one positive AND negative result:  0 ( 0.0 % )\n",
      "\n"
     ]
    },
    {
     "data": {
      "text/markdown": [
       "**ECDS/SGSS/ICU Summary**"
      ],
      "text/plain": [
       "<IPython.core.display.Markdown object>"
      ]
     },
     "metadata": {},
     "output_type": "display_data"
    },
    {
     "name": "stdout",
     "output_type": "stream",
     "text": [
      "ECDS patients with positive lab results: 0 ( 0.0 % )\n",
      "ECDS patients with any covid diagnosis and positive lab result: 0 ( 0.0 % )\n",
      "ECDS patients with no lab results: 1 ( 100.0 % )\n",
      "\n",
      "No of patients in SGSS not in A&E (ECDS):  2 ( 100.0 % )\n",
      "\n",
      "No of patients in ICU not in A&E (ECDS):  5 ( 83.0 % )\n",
      "No of patients in ICU not in SGSS:  6 ( 100.0 % )\n",
      "\n"
     ]
    }
   ],
   "source": [
    "for w in l[\"date\"]: # note d doesn't contain dates\n",
    "    ecds1 = ecds.loc[ecds[\"EC_Conclusion_Date_latest\"] <= w]\n",
    "    p1 = p.loc[p[\"pos_Lab_Report_Date_latest\"] <= w]\n",
    "    n1 = n.loc[n[\"neg_Lab_Report_Date_latest\"] <= w]\n",
    "    icu1 = icu.loc[icu[\"IcuAdmissionDateTime_latest\"] <= w]\n",
    "    e2, ecds_patient_count, sgss_patient_count, icu_patient_count = merge_data(ecds1, p1, n1, d, icu1)\n",
    "    display(Markdown(f\"# Cut-off date: {w:%Y-%m-%d}\"))\n",
    "    summary_info(e2, ecds_patient_count, sgss_patient_count, icu_patient_count)\n",
    "    "
   ]
  },
  {
   "cell_type": "code",
   "execution_count": 13,
   "metadata": {},
   "outputs": [
    {
     "data": {
      "text/html": [
       "<div>\n",
       "<style scoped>\n",
       "    .dataframe tbody tr th:only-of-type {\n",
       "        vertical-align: middle;\n",
       "    }\n",
       "\n",
       "    .dataframe tbody tr th {\n",
       "        vertical-align: top;\n",
       "    }\n",
       "\n",
       "    .dataframe thead th {\n",
       "        text-align: right;\n",
       "    }\n",
       "</style>\n",
       "<table border=\"1\" class=\"dataframe\">\n",
       "  <thead>\n",
       "    <tr style=\"text-align: right;\">\n",
       "      <th></th>\n",
       "      <th></th>\n",
       "      <th>2020-04-23 00:00:00</th>\n",
       "      <th>2020-04-16 00:00:00</th>\n",
       "      <th>2020-04-09 00:00:00</th>\n",
       "      <th>2020-04-02 00:00:00</th>\n",
       "      <th>2020-03-26 00:00:00</th>\n",
       "    </tr>\n",
       "    <tr>\n",
       "      <th>dataset</th>\n",
       "      <th>item</th>\n",
       "      <th></th>\n",
       "      <th></th>\n",
       "      <th></th>\n",
       "      <th></th>\n",
       "      <th></th>\n",
       "    </tr>\n",
       "  </thead>\n",
       "  <tbody>\n",
       "    <tr>\n",
       "      <th rowspan=\"5\" valign=\"top\">ECDS</th>\n",
       "      <th>Total patients</th>\n",
       "      <td>1</td>\n",
       "      <td>1</td>\n",
       "      <td>1</td>\n",
       "      <td>1</td>\n",
       "      <td>1</td>\n",
       "    </tr>\n",
       "    <tr>\n",
       "      <th>Patients admitted</th>\n",
       "      <td>0</td>\n",
       "      <td>0</td>\n",
       "      <td>0</td>\n",
       "      <td>0</td>\n",
       "      <td>0</td>\n",
       "    </tr>\n",
       "    <tr>\n",
       "      <th>Patients diagnosed</th>\n",
       "      <td>0.0 (0.0%)</td>\n",
       "      <td>0.0 (0.0%)</td>\n",
       "      <td>0.0 (0.0%)</td>\n",
       "      <td>0.0 (0.0%)</td>\n",
       "      <td>0.0 (0.0%)</td>\n",
       "    </tr>\n",
       "    <tr>\n",
       "      <th>Patients diagnosed and admitted</th>\n",
       "      <td>0 (0.0%)</td>\n",
       "      <td>0 (0.0%)</td>\n",
       "      <td>0 (0.0%)</td>\n",
       "      <td>0 (0.0%)</td>\n",
       "      <td>0 (0.0%)</td>\n",
       "    </tr>\n",
       "    <tr>\n",
       "      <th>Latest date</th>\n",
       "      <td>2018-09-23 00:00:00 (583 days ago)</td>\n",
       "      <td>2018-09-23 00:00:00 (583 days ago)</td>\n",
       "      <td>2018-09-23 00:00:00 (583 days ago)</td>\n",
       "      <td>2018-09-23 00:00:00 (583 days ago)</td>\n",
       "      <td>2018-09-23 00:00:00 (583 days ago)</td>\n",
       "    </tr>\n",
       "    <tr>\n",
       "      <th rowspan=\"2\" valign=\"top\">ICNARC (ICU)</th>\n",
       "      <th>Total patients</th>\n",
       "      <td>6</td>\n",
       "      <td>6</td>\n",
       "      <td>6</td>\n",
       "      <td>6</td>\n",
       "      <td>6</td>\n",
       "    </tr>\n",
       "    <tr>\n",
       "      <th>Latest date</th>\n",
       "      <td>2020-03-03 14:30:00 (56 days ago)</td>\n",
       "      <td>2020-03-03 14:30:00 (56 days ago)</td>\n",
       "      <td>2020-03-03 14:30:00 (56 days ago)</td>\n",
       "      <td>2020-03-03 14:30:00 (56 days ago)</td>\n",
       "      <td>2020-03-03 14:30:00 (56 days ago)</td>\n",
       "    </tr>\n",
       "    <tr>\n",
       "      <th rowspan=\"7\" valign=\"top\">SGSS</th>\n",
       "      <th>Total patients</th>\n",
       "      <td>2</td>\n",
       "      <td>10</td>\n",
       "      <td>8</td>\n",
       "      <td>4</td>\n",
       "      <td>2</td>\n",
       "    </tr>\n",
       "    <tr>\n",
       "      <th>Latest date</th>\n",
       "      <td>2020-03-25 00:00:00 (34 days ago)</td>\n",
       "      <td>2020-04-15 00:00:00 (13 days ago)</td>\n",
       "      <td>2020-04-07 00:00:00 (21 days ago)</td>\n",
       "      <td>2020-03-29 00:00:00 (30 days ago)</td>\n",
       "      <td>2020-03-25 00:00:00 (34 days ago)</td>\n",
       "    </tr>\n",
       "    <tr>\n",
       "      <th>Total positive results</th>\n",
       "      <td>1</td>\n",
       "      <td>5</td>\n",
       "      <td>4</td>\n",
       "      <td>2</td>\n",
       "      <td>1</td>\n",
       "    </tr>\n",
       "    <tr>\n",
       "      <th>Patients with at least one positive</th>\n",
       "      <td>1.0 (50.0%)</td>\n",
       "      <td>5.0 (50.0%)</td>\n",
       "      <td>4.0 (50.0%)</td>\n",
       "      <td>2.0 (50.0%)</td>\n",
       "      <td>1.0 (50.0%)</td>\n",
       "    </tr>\n",
       "    <tr>\n",
       "      <th>Total negative results</th>\n",
       "      <td>1</td>\n",
       "      <td>5</td>\n",
       "      <td>4</td>\n",
       "      <td>2</td>\n",
       "      <td>1</td>\n",
       "    </tr>\n",
       "    <tr>\n",
       "      <th>Patients with at least one negative</th>\n",
       "      <td>1.0 (50.0%)</td>\n",
       "      <td>5.0 (50.0%)</td>\n",
       "      <td>4.0 (50.0%)</td>\n",
       "      <td>2.0 (50.0%)</td>\n",
       "      <td>1.0 (50.0%)</td>\n",
       "    </tr>\n",
       "    <tr>\n",
       "      <th>Patients with at least one positive AND negative</th>\n",
       "      <td>0 (0.0%)</td>\n",
       "      <td>0 (0.0%)</td>\n",
       "      <td>0 (0.0%)</td>\n",
       "      <td>0 (0.0%)</td>\n",
       "      <td>0 (0.0%)</td>\n",
       "    </tr>\n",
       "    <tr>\n",
       "      <th rowspan=\"6\" valign=\"top\">Combined</th>\n",
       "      <th>ECDS patients with positive lab results</th>\n",
       "      <td>0 (0.0%)</td>\n",
       "      <td>0 (0.0%)</td>\n",
       "      <td>0 (0.0%)</td>\n",
       "      <td>0 (0.0%)</td>\n",
       "      <td>0 (0.0%)</td>\n",
       "    </tr>\n",
       "    <tr>\n",
       "      <th>ECDS patients with any covid diagnosis and positive lab result</th>\n",
       "      <td>0 (0.0%)</td>\n",
       "      <td>0 (0.0%)</td>\n",
       "      <td>0 (0.0%)</td>\n",
       "      <td>0 (0.0%)</td>\n",
       "      <td>0 (0.0%)</td>\n",
       "    </tr>\n",
       "    <tr>\n",
       "      <th>ECDS patients with no lab results</th>\n",
       "      <td>1 (100.0%)</td>\n",
       "      <td>1 (100.0%)</td>\n",
       "      <td>1 (100.0%)</td>\n",
       "      <td>1 (100.0%)</td>\n",
       "      <td>1 (100.0%)</td>\n",
       "    </tr>\n",
       "    <tr>\n",
       "      <th>Patients in SGSS not in A&amp;E (ECDS)</th>\n",
       "      <td>2 (100.0%)</td>\n",
       "      <td>10 (100.0%)</td>\n",
       "      <td>8 (100.0%)</td>\n",
       "      <td>4 (100.0%)</td>\n",
       "      <td>2 (100.0%)</td>\n",
       "    </tr>\n",
       "    <tr>\n",
       "      <th>Patients in ICU not in A&amp;E (ECDS)</th>\n",
       "      <td>5 (83.0%)</td>\n",
       "      <td>5 (83.0%)</td>\n",
       "      <td>5 (83.0%)</td>\n",
       "      <td>5 (83.0%)</td>\n",
       "      <td>5 (83.0%)</td>\n",
       "    </tr>\n",
       "    <tr>\n",
       "      <th>Patients in ICU not in SGSS</th>\n",
       "      <td>6 (100.0%)</td>\n",
       "      <td>6 (100.0%)</td>\n",
       "      <td>6 (100.0%)</td>\n",
       "      <td>6 (100.0%)</td>\n",
       "      <td>6 (100.0%)</td>\n",
       "    </tr>\n",
       "  </tbody>\n",
       "</table>\n",
       "</div>"
      ],
      "text/plain": [
       "                                                                                2020-04-23 00:00:00  \\\n",
       "dataset      item                                                                                     \n",
       "ECDS         Total patients                                                                       1   \n",
       "             Patients admitted                                                                    0   \n",
       "             Patients diagnosed                                                          0.0 (0.0%)   \n",
       "             Patients diagnosed and admitted                                               0 (0.0%)   \n",
       "             Latest date                                         2018-09-23 00:00:00 (583 days ago)   \n",
       "ICNARC (ICU) Total patients                                                                       6   \n",
       "             Latest date                                          2020-03-03 14:30:00 (56 days ago)   \n",
       "SGSS         Total patients                                                                       2   \n",
       "             Latest date                                          2020-03-25 00:00:00 (34 days ago)   \n",
       "             Total positive results                                                               1   \n",
       "             Patients with at least one positive                                        1.0 (50.0%)   \n",
       "             Total negative results                                                               1   \n",
       "             Patients with at least one negative                                        1.0 (50.0%)   \n",
       "             Patients with at least one positive AND negative                              0 (0.0%)   \n",
       "Combined     ECDS patients with positive lab results                                       0 (0.0%)   \n",
       "             ECDS patients with any covid diagnosis and posi...                            0 (0.0%)   \n",
       "             ECDS patients with no lab results                                           1 (100.0%)   \n",
       "             Patients in SGSS not in A&E (ECDS)                                          2 (100.0%)   \n",
       "             Patients in ICU not in A&E (ECDS)                                            5 (83.0%)   \n",
       "             Patients in ICU not in SGSS                                                 6 (100.0%)   \n",
       "\n",
       "                                                                                2020-04-16 00:00:00  \\\n",
       "dataset      item                                                                                     \n",
       "ECDS         Total patients                                                                       1   \n",
       "             Patients admitted                                                                    0   \n",
       "             Patients diagnosed                                                          0.0 (0.0%)   \n",
       "             Patients diagnosed and admitted                                               0 (0.0%)   \n",
       "             Latest date                                         2018-09-23 00:00:00 (583 days ago)   \n",
       "ICNARC (ICU) Total patients                                                                       6   \n",
       "             Latest date                                          2020-03-03 14:30:00 (56 days ago)   \n",
       "SGSS         Total patients                                                                      10   \n",
       "             Latest date                                          2020-04-15 00:00:00 (13 days ago)   \n",
       "             Total positive results                                                               5   \n",
       "             Patients with at least one positive                                        5.0 (50.0%)   \n",
       "             Total negative results                                                               5   \n",
       "             Patients with at least one negative                                        5.0 (50.0%)   \n",
       "             Patients with at least one positive AND negative                              0 (0.0%)   \n",
       "Combined     ECDS patients with positive lab results                                       0 (0.0%)   \n",
       "             ECDS patients with any covid diagnosis and posi...                            0 (0.0%)   \n",
       "             ECDS patients with no lab results                                           1 (100.0%)   \n",
       "             Patients in SGSS not in A&E (ECDS)                                         10 (100.0%)   \n",
       "             Patients in ICU not in A&E (ECDS)                                            5 (83.0%)   \n",
       "             Patients in ICU not in SGSS                                                 6 (100.0%)   \n",
       "\n",
       "                                                                                2020-04-09 00:00:00  \\\n",
       "dataset      item                                                                                     \n",
       "ECDS         Total patients                                                                       1   \n",
       "             Patients admitted                                                                    0   \n",
       "             Patients diagnosed                                                          0.0 (0.0%)   \n",
       "             Patients diagnosed and admitted                                               0 (0.0%)   \n",
       "             Latest date                                         2018-09-23 00:00:00 (583 days ago)   \n",
       "ICNARC (ICU) Total patients                                                                       6   \n",
       "             Latest date                                          2020-03-03 14:30:00 (56 days ago)   \n",
       "SGSS         Total patients                                                                       8   \n",
       "             Latest date                                          2020-04-07 00:00:00 (21 days ago)   \n",
       "             Total positive results                                                               4   \n",
       "             Patients with at least one positive                                        4.0 (50.0%)   \n",
       "             Total negative results                                                               4   \n",
       "             Patients with at least one negative                                        4.0 (50.0%)   \n",
       "             Patients with at least one positive AND negative                              0 (0.0%)   \n",
       "Combined     ECDS patients with positive lab results                                       0 (0.0%)   \n",
       "             ECDS patients with any covid diagnosis and posi...                            0 (0.0%)   \n",
       "             ECDS patients with no lab results                                           1 (100.0%)   \n",
       "             Patients in SGSS not in A&E (ECDS)                                          8 (100.0%)   \n",
       "             Patients in ICU not in A&E (ECDS)                                            5 (83.0%)   \n",
       "             Patients in ICU not in SGSS                                                 6 (100.0%)   \n",
       "\n",
       "                                                                                2020-04-02 00:00:00  \\\n",
       "dataset      item                                                                                     \n",
       "ECDS         Total patients                                                                       1   \n",
       "             Patients admitted                                                                    0   \n",
       "             Patients diagnosed                                                          0.0 (0.0%)   \n",
       "             Patients diagnosed and admitted                                               0 (0.0%)   \n",
       "             Latest date                                         2018-09-23 00:00:00 (583 days ago)   \n",
       "ICNARC (ICU) Total patients                                                                       6   \n",
       "             Latest date                                          2020-03-03 14:30:00 (56 days ago)   \n",
       "SGSS         Total patients                                                                       4   \n",
       "             Latest date                                          2020-03-29 00:00:00 (30 days ago)   \n",
       "             Total positive results                                                               2   \n",
       "             Patients with at least one positive                                        2.0 (50.0%)   \n",
       "             Total negative results                                                               2   \n",
       "             Patients with at least one negative                                        2.0 (50.0%)   \n",
       "             Patients with at least one positive AND negative                              0 (0.0%)   \n",
       "Combined     ECDS patients with positive lab results                                       0 (0.0%)   \n",
       "             ECDS patients with any covid diagnosis and posi...                            0 (0.0%)   \n",
       "             ECDS patients with no lab results                                           1 (100.0%)   \n",
       "             Patients in SGSS not in A&E (ECDS)                                          4 (100.0%)   \n",
       "             Patients in ICU not in A&E (ECDS)                                            5 (83.0%)   \n",
       "             Patients in ICU not in SGSS                                                 6 (100.0%)   \n",
       "\n",
       "                                                                                2020-03-26 00:00:00  \n",
       "dataset      item                                                                                    \n",
       "ECDS         Total patients                                                                       1  \n",
       "             Patients admitted                                                                    0  \n",
       "             Patients diagnosed                                                          0.0 (0.0%)  \n",
       "             Patients diagnosed and admitted                                               0 (0.0%)  \n",
       "             Latest date                                         2018-09-23 00:00:00 (583 days ago)  \n",
       "ICNARC (ICU) Total patients                                                                       6  \n",
       "             Latest date                                          2020-03-03 14:30:00 (56 days ago)  \n",
       "SGSS         Total patients                                                                       2  \n",
       "             Latest date                                          2020-03-25 00:00:00 (34 days ago)  \n",
       "             Total positive results                                                               1  \n",
       "             Patients with at least one positive                                        1.0 (50.0%)  \n",
       "             Total negative results                                                               1  \n",
       "             Patients with at least one negative                                        1.0 (50.0%)  \n",
       "             Patients with at least one positive AND negative                              0 (0.0%)  \n",
       "Combined     ECDS patients with positive lab results                                       0 (0.0%)  \n",
       "             ECDS patients with any covid diagnosis and posi...                            0 (0.0%)  \n",
       "             ECDS patients with no lab results                                           1 (100.0%)  \n",
       "             Patients in SGSS not in A&E (ECDS)                                          2 (100.0%)  \n",
       "             Patients in ICU not in A&E (ECDS)                                            5 (83.0%)  \n",
       "             Patients in ICU not in SGSS                                                 6 (100.0%)  "
      ]
     },
     "metadata": {},
     "output_type": "display_data"
    }
   ],
   "source": [
    "   \n",
    "def ecds_percentage2(X):\n",
    "    return str(X)+\" (\"+str(ecds_percentage(X))+\"%)\"\n",
    "def sgss_percentage2(X):\n",
    "    return str(X)+\" (\"+str(sgss_percentage(X))+\"%)\"\n",
    "def icu_percentage2(X):\n",
    "    return str(X)+\" (\"+str(icu_percentage(X))+\"%)\"\n",
    "\n",
    "def bracs_d(X):\n",
    "    return str(X)+\" (\"+str(days_ago(X))+ \" days ago)\"\n",
    "\n",
    "\n",
    "\n",
    "def results_table(e2, ecds_patient_count, sgss_patient_count, icu_patient_count, w):\n",
    "    results = pd.DataFrame() \n",
    "    results = results.append([[\"ECDS\",\"Total patients\",ecds_patient_count],\n",
    "    [\"ECDS\", \"Patients admitted\", e2[\"admit_flag\"].sum()],\n",
    "    [\"ECDS\", \"Patients diagnosed\", ecds_percentage2(e2[\"diagnosis_flag\"].sum())],\n",
    "    [\"ECDS\", \"Patients diagnosed and admitted\", ecds_percentage2(e2[\"ecds_diagnosed_and_admitted_flag\"].sum())],                         \n",
    "    [\"ECDS\", \"Latest date\", bracs_d(e2[\"EC_Conclusion_Date_latest\"].max())],\n",
    "\n",
    "    [\"ICNARC (ICU)\", \"Total patients\", icu_patient_count], \n",
    "    [\"ICNARC (ICU)\", \"Latest date\", bracs_d(e2[\"IcuAdmissionDateTime_latest\"].max())],\n",
    "\n",
    "    [\"SGSS\", \"Total patients\", sgss_patient_count],\n",
    "    [\"SGSS\", \"Latest date\", bracs_d(e2[\"pos_Lab_Report_Date_latest\"].max())],\n",
    "    [\"SGSS\", \"Total positive results\", e2[\"positives\"].sum()],\n",
    "    [\"SGSS\", \"Patients with at least one positive\", sgss_percentage2(e2[\"positive_flag\"].sum())],\n",
    "    [\"SGSS\", \"Total negative results\", e2[\"negatives\"].sum()],\n",
    "    [\"SGSS\", \"Patients with at least one negative\", sgss_percentage2(e2[\"negative_flag\"].sum())],\n",
    "    [\"SGSS\", \"Patients with at least one positive AND negative\", sgss_percentage2(e2[\"pos_neg_flag\"].sum())],                   \n",
    "\n",
    "    [\"Combined\", \"ECDS patients with positive lab results\", ecds_percentage2(e2[\"ecds_and_positive_flag\"].sum())],\n",
    "    [\"Combined\", \"ECDS patients with any covid diagnosis and positive lab result\", ecds_percentage2(e2[\"diagnosis_and_positive_flag\"].sum())],\n",
    "    [\"Combined\", \"ECDS patients with no lab results\", ecds_percentage2(e2[\"ecds_no_sgss_flag\"].sum())],\n",
    "    [\"Combined\",\"Patients in SGSS not in A&E (ECDS)\", sgss_percentage2(e2[\"sgss_no_ecds_flag\"].sum())],\n",
    "    [\"Combined\",\"Patients in ICU not in A&E (ECDS)\", icu_percentage2(e2[\"icu_no_ecds_flag\"].sum())],\n",
    "    [\"Combined\",\"Patients in ICU not in SGSS\", icu_percentage2(e2[\"icu_no_sgss_flag\"].sum())]\n",
    "    ])   \n",
    "    results = results.rename(columns={0:\"dataset\", 1:\"item\", 2:str(w)}).set_index([\"dataset\",\"item\"]) \n",
    "    return results\n",
    "\n",
    "# latest data summary\n",
    "r = results_table(e2, ecds_patient_count, sgss_patient_count, icu_patient_count, w=latest_date)\n",
    "\n",
    "# add previous weeks' summaries\n",
    "for i,w in enumerate(l[\"date\"]): \n",
    "    ecds1 = ecds.loc[ecds[\"EC_Conclusion_Date_latest\"] <= w]\n",
    "    p1 = p.loc[p[\"pos_Lab_Report_Date_latest\"] <= w]\n",
    "    n1 = n.loc[n[\"neg_Lab_Report_Date_latest\"] <= w]\n",
    "    icu1 = icu.loc[icu[\"IcuAdmissionDateTime_latest\"] <= w]\n",
    "    \n",
    "    e2, ecds_patient_count, sgss_patient_count, icu_patient_count = merge_data(ecds1, p1, n1, d, icu1)\n",
    "    \n",
    "    r0 = results_table(e2, ecds_patient_count, sgss_patient_count, icu_patient_count, w)\n",
    "    r = r.merge(r0, suffixes=[\"\",\"_\"], left_index=True, right_index=True)\n",
    "    \n",
    "display (r)\n"
   ]
  }
 ],
 "metadata": {
  "jupytext": {
   "cell_metadata_filter": "all",
   "notebook_metadata_filter": "all,-language_info",
   "text_representation": {
    "extension": ".py",
    "format_name": "light",
    "format_version": "1.5",
    "jupytext_version": "1.3.3"
   }
  },
  "kernelspec": {
   "display_name": "Python 3",
   "language": "python",
   "name": "python3"
  },
  "language_info": {
   "codemirror_mode": {
    "name": "ipython",
    "version": 3
   },
   "file_extension": ".py",
   "mimetype": "text/x-python",
   "name": "python",
   "nbconvert_exporter": "python",
   "pygments_lexer": "ipython3",
   "version": "3.8.1"
  }
 },
 "nbformat": 4,
 "nbformat_minor": 4
}
