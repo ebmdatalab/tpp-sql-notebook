{
 "cells": [
  {
   "cell_type": "code",
   "execution_count": 1,
   "metadata": {},
   "outputs": [],
   "source": [
    "import pyodbc\n",
    "import pandas as pd\n",
    "from IPython.display import display, Markdown"
   ]
  },
  {
   "cell_type": "code",
   "execution_count": 2,
   "metadata": {},
   "outputs": [],
   "source": [
    "server = 'covid.ebmdatalab.net,1433'\n",
    "database = 'OPENCoronaExport' \n",
    "username = 'SA'\n",
    "password = 'ahsjdkaJAMSHDA123[' \n",
    "cnxn = pyodbc.connect('DRIVER={ODBC Driver 17 for SQL Server};SERVER='+server+';DATABASE='+database+';UID='+username+';PWD='+ password)\n",
    "cursor = cnxn.cursor()"
   ]
  },
  {
   "cell_type": "markdown",
   "metadata": {},
   "source": [
    "### Inspect columns"
   ]
  },
  {
   "cell_type": "code",
   "execution_count": 3,
   "metadata": {},
   "outputs": [
    {
     "data": {
      "text/plain": [
       "0                                             Patient_ID\n",
       "1                                               EC_Ident\n",
       "2                                       EC_PCD_Indicator\n",
       "3                                               CDS_Type\n",
       "4                                    CDS_Group_Indicator\n",
       "5                                     Finished_Indicator\n",
       "6                                      CDS_Activity_Date\n",
       "7                        CDS_Interchange_Sender_Identity\n",
       "8                           CDS_Prime_Recipient_Identity\n",
       "9                                          Provider_Code\n",
       "10                                     Commissioner_Code\n",
       "11                                        SNOMED_Version\n",
       "12                                     RTT_Period_Status\n",
       "13                            Wait_Time_Measurement_Type\n",
       "14                                 RTT_Period_Start_Date\n",
       "15                                   RTT_Period_End_Date\n",
       "16                                     RTT_Period_Length\n",
       "17                      NHS_Number_Status_Indicator_Code\n",
       "18                                   NHS_Number_Is_Valid\n",
       "19                              Withheld_Identity_Reason\n",
       "20                                        Month_of_Birth\n",
       "21                                         Year_of_Birth\n",
       "22                                          Patient_Type\n",
       "23                              Age_at_CDS_Activity_Date\n",
       "24                                        Age_At_Arrival\n",
       "25                             Fractional_Age_At_Arrival\n",
       "26                                    HES_Age_At_Arrival\n",
       "27                                  HES_Age_At_Departure\n",
       "28                  Index_Of_Multiple_Deprivation_Decile\n",
       "29      Index_Of_Multiple_Deprivation_Decile_Description\n",
       "30                                 Rural_Urban_Indicator\n",
       "31                                       Cancer_Registry\n",
       "32                                                   Sex\n",
       "33                                       Ethnic_Category\n",
       "34                        Accommodation_Status_SNOMED_CT\n",
       "35                    Accommodation_Status_Code_Approved\n",
       "36                   Preferred_Spoken_Language_SNOMED_CT\n",
       "37               Preferred_Spoken_Language_Code_Approved\n",
       "38     Accessible_Information_Professional_Required_S...\n",
       "39     Accessible_Information_Professional_Required_C...\n",
       "40                        Interpreter_Language_SNOMED_CT\n",
       "41                    Interpreter_Language_Code_Approved\n",
       "42                    Overseas_Visitor_Charging_Category\n",
       "43                                Site_Code_of_Treatment\n",
       "44                                    EC_Department_Type\n",
       "45                                          Arrival_Date\n",
       "46                                          Arrival_Time\n",
       "47                                         Arrival_Month\n",
       "48                             EC_Arrival_Mode_SNOMED_CT\n",
       "49                                 Arrival_Mode_Approved\n",
       "50                                 EC_AttendanceCategory\n",
       "51                                       Arrival_Planned\n",
       "52                        EC_Attendance_Source_SNOMED_CT\n",
       "53                        Attendance_Source_Organisation\n",
       "54                            EC_Initial_Assessment_Date\n",
       "55                            EC_Initial_Assessment_Time\n",
       "56              EC_Initial_Assessment_Time_Since_Arrival\n",
       "57                            EC_Seen_For_Treatment_Date\n",
       "58                            EC_Seen_For_Treatment_Time\n",
       "59              EC_Seen_For_Treatment_Time_Since_Arrival\n",
       "60                                    EC_Conclusion_Date\n",
       "61                                    EC_Conclusion_Time\n",
       "62                      EC_Conclusion_Time_Since_Arrival\n",
       "63                                     EC_Departure_Date\n",
       "64                                     EC_Departure_Time\n",
       "65                       EC_Departure_Time_Since_Arrival\n",
       "66                             EC_Decision_To_Admit_Date\n",
       "67                             EC_Decision_To_Admit_Time\n",
       "68               EC_Decision_To_Admit_Time_Since_Arrival\n",
       "69             Decision_To_Admit_Treatment_Function_Code\n",
       "70                      Decision_To_Admit_Receiving_Site\n",
       "71                         EC_Discharge_Status_SNOMED_CT\n",
       "72                          EC_Discharge_Status_Approved\n",
       "73                       Discharge_Destination_SNOMED_CT\n",
       "74                          DischargeDestinationApproved\n",
       "75                         Discharge_Follow_Up_SNOMED_CT\n",
       "76                          Discharge_Follow_Up_Approved\n",
       "77                 Discharge_Information_Given_SNOMED_CT\n",
       "78                  Discharge_Information_Given_Approved\n",
       "79                          EC_Chief_Complaint_SNOMED_CT\n",
       "80                                   EC_Acuity_SNOMED_CT\n",
       "81                                        EC_Injury_Date\n",
       "82                                        EC_Injury_Time\n",
       "83                   EC_Injury_Activity_Status_SNOMED_CT\n",
       "84                     EC_Injury_Activity_Type_SNOMED_CT\n",
       "85                            EC_Injury_Intent_SNOMED_CT\n",
       "86                         EC_Injury_Mechanism_SNOMED_CT\n",
       "87                          EC_Place_Of_Injury_SNOMED_CT\n",
       "88                           EC_Place_Of_Injury_Latitude\n",
       "89                          EC_Place_Of_Injury_Longitude\n",
       "90                                   Clinical_Trial_Code\n",
       "91                         Clinical_Disease_Notification\n",
       "92                                   SUS_Grouper_Version\n",
       "93                             SUS_Code_Cleaning_Applied\n",
       "94                                          SUS_HRG_Code\n",
       "95                                    SUS_Costing_Period\n",
       "96                                          SUS_Excluded\n",
       "97                                            SUS_Tariff\n",
       "98                                SUS_Tariff_Description\n",
       "99                                               SUS_MFF\n",
       "100                                     SUS_MFAdjustment\n",
       "101                                      SUS_Final_Price\n",
       "102                                            Age_Range\n",
       "103               Clinical_Chief_Complaint_Code_Approved\n",
       "104              Clinical_Chief_Complaint_Injury_Related\n",
       "105               Clinical_Chief_Complaint_Extended_Code\n",
       "106                        Clinical_Acuity_Code_Approved\n",
       "107        Clinical_Injury_Activity_Status_Code_Approved\n",
       "108          Clinical_Injury_Activity_Type_Code_Approved\n",
       "109                 Clinical_Injury_Intent_Code_Approved\n",
       "110                  Clinical_Injury_Place_Type_Approved\n",
       "111                          DQ_Chief_Complaint_Expected\n",
       "112                         DQ_Chief_Complaint_Completed\n",
       "113                             DQ_Chief_Complaint_Valid\n",
       "114                        DQ_Primary_Diagnosis_Expected\n",
       "115                       DQ_Primary_Diagnosis_Completed\n",
       "116                           DQ_Primary_Diagnosis_Valid\n",
       "117                                           Exclusions\n",
       "118                                    Reason_For_Access\n",
       "119                                    Der_Provider_Code\n",
       "120                               Der_Provider_Site_Code\n",
       "121                                Der_Commissioner_Code\n",
       "122                         Der_Age_At_CDS_Activity_Date\n",
       "123                                   Der_Activity_Month\n",
       "124                                   Der_Financial_Year\n",
       "125                             Der_Number_AEA_Diagnosis\n",
       "126                              Der_Number_EC_Diagnosis\n",
       "127                         Der_Number_AEA_Investigation\n",
       "128                          Der_Number_EC_Investigation\n",
       "129                             Der_Number_AEA_Treatment\n",
       "130                              Der_Number_EC_Treatment\n",
       "131                                Der_AEA_Diagnosis_All\n",
       "132                                 Der_EC_Diagnosis_All\n",
       "133                            Der_AEA_Investigation_All\n",
       "134                             Der_EC_Investigation_All\n",
       "135                                Der_AEA_Treatment_All\n",
       "136                                 Der_EC_Treatment_All\n",
       "137                             Der_EC_Arrival_Date_Time\n",
       "138                           Der_EC_Departure_Date_Time\n",
       "139                                      Der_EC_Duration\n",
       "140                                        Der_Dupe_Flag\n",
       "141                                      Der_Record_Type\n",
       "142                                Der_AEA_Patient_Group\n",
       "dtype: object"
      ]
     },
     "execution_count": 3,
     "metadata": {},
     "output_type": "execute_result"
    }
   ],
   "source": [
    "# increase column display limit so that we can see all rows in summary data\n",
    "sql = '''-- main ecds table\n",
    "select TOP 1 *\n",
    "from ECDS\n",
    "'''\n",
    "\n",
    "ecds = pd.read_sql(sql, cnxn)\n",
    "pd.set_option('display.max_rows', 200)\n",
    "\n",
    "pd.Series(ecds.columns)"
   ]
  },
  {
   "cell_type": "markdown",
   "metadata": {},
   "source": [
    "### Main ECDS table"
   ]
  },
  {
   "cell_type": "code",
   "execution_count": 4,
   "metadata": {},
   "outputs": [
    {
     "data": {
      "text/markdown": [
       "**ECDS Summary**"
      ],
      "text/plain": [
       "<IPython.core.display.Markdown object>"
      ]
     },
     "metadata": {},
     "output_type": "display_data"
    },
    {
     "name": "stdout",
     "output_type": "stream",
     "text": [
      "No of patients:  1\n",
      "Latest date:  2018-09-23 00:00:00\n"
     ]
    }
   ],
   "source": [
    "sql = '''-- main ecds table\n",
    "select Patient_ID, \n",
    "max(EC_Conclusion_Date) as EC_Conclusion_Date_latest\n",
    "from ECDS e\n",
    "group by Patient_ID\n",
    "'''\n",
    "\n",
    "ecds = pd.read_sql(sql, cnxn)\n",
    "ecds[\"ecds_flag\"] = 1\n",
    "ecds[\"EC_Conclusion_Date_latest\"] = pd.to_datetime(ecds[\"EC_Conclusion_Date_latest\"])\n",
    "\n",
    "display(Markdown(f\"**ECDS Summary**\"))\n",
    "print(\"No of patients: \", ecds[\"Patient_ID\"].nunique())\n",
    "print(\"Latest date: \", ecds[\"EC_Conclusion_Date_latest\"].max())"
   ]
  },
  {
   "cell_type": "markdown",
   "metadata": {},
   "source": [
    "### ECDS diagnosis"
   ]
  },
  {
   "cell_type": "code",
   "execution_count": 5,
   "metadata": {},
   "outputs": [
    {
     "data": {
      "text/markdown": [
       "**ECDS Diagnosis Summary**"
      ],
      "text/plain": [
       "<IPython.core.display.Markdown object>"
      ]
     },
     "metadata": {},
     "output_type": "display_data"
    },
    {
     "name": "stdout",
     "output_type": "stream",
     "text": [
      "No of patients:  0\n"
     ]
    }
   ],
   "source": [
    "sql = '''-- ecds diagnoses:\n",
    "select distinct Patient_ID\n",
    "from ECDS_EC_Diagnoses\n",
    "where LEFT(DiagnosisCode,15) = '124075100000010'\n",
    "'''\n",
    "\n",
    "d = pd.read_sql(sql, cnxn)\n",
    "d[\"diagnosis_flag\"] = 1\n",
    "\n",
    "display(Markdown(f\"**ECDS Diagnosis Summary**\"))\n",
    "print(\"No of patients: \", d[\"Patient_ID\"].nunique())\n",
    "\n",
    "## empty table"
   ]
  },
  {
   "cell_type": "markdown",
   "metadata": {},
   "source": [
    "### Positive in SGSS"
   ]
  },
  {
   "cell_type": "code",
   "execution_count": 6,
   "metadata": {},
   "outputs": [
    {
     "data": {
      "text/markdown": [
       "**SGSS Positive Summary**"
      ],
      "text/plain": [
       "<IPython.core.display.Markdown object>"
      ]
     },
     "metadata": {},
     "output_type": "display_data"
    },
    {
     "name": "stdout",
     "output_type": "stream",
     "text": [
      "No of patients:  7\n",
      "Latest lab result date:  2020-04-23 00:00:00\n"
     ]
    }
   ],
   "source": [
    "sql = '''-- SGSS positives:\n",
    "select DISTINCT Patient_ID, max(Lab_Report_Date) as pos_Lab_Report_Date_latest, count(*) AS positives\n",
    "from SGSS_Positive\n",
    "group by Patient_ID\n",
    "'''\n",
    "p = pd.read_sql(sql, cnxn)\n",
    "p[\"positive_flag\"] = 1\n",
    "p[\"pos_Lab_Report_Date_latest\"] = pd.to_datetime(p[\"pos_Lab_Report_Date_latest\"])\n",
    "\n",
    "display(Markdown(f\"**SGSS Positive Summary**\"))\n",
    "print(\"No of patients: \", p[\"Patient_ID\"].nunique())\n",
    "print(\"Latest lab result date: \", p[\"pos_Lab_Report_Date_latest\"].max())"
   ]
  },
  {
   "cell_type": "markdown",
   "metadata": {},
   "source": [
    "### Negative in SGSS"
   ]
  },
  {
   "cell_type": "code",
   "execution_count": 7,
   "metadata": {},
   "outputs": [
    {
     "data": {
      "text/markdown": [
       "**SGSS Negative Summary**"
      ],
      "text/plain": [
       "<IPython.core.display.Markdown object>"
      ]
     },
     "metadata": {},
     "output_type": "display_data"
    },
    {
     "name": "stdout",
     "output_type": "stream",
     "text": [
      "No of patients:  7\n",
      "Latest lab result date:  2020-04-23 00:00:00\n"
     ]
    }
   ],
   "source": [
    "sql = '''\n",
    "-- SGSS negatives:\n",
    "select Patient_ID, max(Lab_Report_Date) as neg_Lab_Report_Date_latest, count(*) AS negatives\n",
    "from SGSS_Negative\n",
    "group by Patient_ID\n",
    "'''\n",
    "\n",
    "n = pd.read_sql(sql, cnxn)\n",
    "n[\"negative_flag\"] = 1\n",
    "n[\"neg_Lab_Report_Date_latest\"] = pd.to_datetime(n[\"neg_Lab_Report_Date_latest\"])\n",
    "\n",
    "display(Markdown(f\"**SGSS Negative Summary**\"))\n",
    "print(\"No of patients: \", n[\"Patient_ID\"].nunique())\n",
    "print(\"Latest lab result date: \", n[\"neg_Lab_Report_Date_latest\"].max())"
   ]
  },
  {
   "cell_type": "markdown",
   "metadata": {},
   "source": [
    "## ICU"
   ]
  },
  {
   "cell_type": "code",
   "execution_count": 8,
   "metadata": {},
   "outputs": [
    {
     "data": {
      "text/markdown": [
       "**ICNARC (ICU) Summary**"
      ],
      "text/plain": [
       "<IPython.core.display.Markdown object>"
      ]
     },
     "metadata": {},
     "output_type": "display_data"
    },
    {
     "name": "stdout",
     "output_type": "stream",
     "text": [
      "No of patients:  6\n",
      "Latest date:  2020-03-03 14:30:00\n"
     ]
    }
   ],
   "source": [
    "sql = '''-- icnarc ICU admissions\n",
    "select Patient_ID, \n",
    "max(IcuAdmissionDateTime) as IcuAdmissionDateTime_latest\n",
    "from ICNARC\n",
    "group by Patient_ID\n",
    "'''\n",
    "\n",
    "icu = pd.read_sql(sql, cnxn)\n",
    "icu[\"icu_flag\"] = 1\n",
    "icu[\"IcuAdmissionDateTime_latest\"] = pd.to_datetime(icu[\"IcuAdmissionDateTime_latest\"], unit='D', format=\"%d/%m/%Y\")\n",
    "\n",
    "display(Markdown(f\"**ICNARC (ICU) Summary**\"))\n",
    "print(\"No of patients: \", icu[\"Patient_ID\"].nunique())\n",
    "print(\"Latest date: \", icu[\"IcuAdmissionDateTime_latest\"].max())"
   ]
  },
  {
   "cell_type": "markdown",
   "metadata": {},
   "source": [
    "## How many patients in ECDS have a positive or negative result in SGSS"
   ]
  },
  {
   "cell_type": "markdown",
   "metadata": {},
   "source": [
    "**first check how well periods overlap:**"
   ]
  },
  {
   "cell_type": "code",
   "execution_count": 9,
   "metadata": {},
   "outputs": [
    {
     "name": "stdout",
     "output_type": "stream",
     "text": [
      "ECDS max date:  2018-09-23 00:00:00 ,   582  days ago\n",
      "SGSS max date:  2020-04-23 00:00:00 ,   4  days ago\n",
      "ICU max admit date:  2020-03-03 14:30:00 ,   55  days ago\n"
     ]
    }
   ],
   "source": [
    "from datetime import date\n",
    "from datetime import datetime\n",
    "\n",
    "def days_ago(DT=datetime(2020,3,3)):\n",
    "    return (date.today()-datetime.date(DT)).days\n",
    "\n",
    "print (\"ECDS max date: \", ecds[\"EC_Conclusion_Date_latest\"].max(), \",  \", days_ago(ecds[\"EC_Conclusion_Date_latest\"].max()), \" days ago\")\n",
    "print (\"SGSS max date: \", p[\"pos_Lab_Report_Date_latest\"].max(), \",  \", days_ago(p[\"pos_Lab_Report_Date_latest\"].max()), \" days ago\")\n",
    "print (\"ICU max admit date: \", icu[\"IcuAdmissionDateTime_latest\"].max(), \",  \", days_ago(icu[\"IcuAdmissionDateTime_latest\"].max()), \" days ago\")"
   ]
  },
  {
   "cell_type": "code",
   "execution_count": 10,
   "metadata": {},
   "outputs": [
    {
     "data": {
      "text/markdown": [
       "**ECDS Summary**"
      ],
      "text/plain": [
       "<IPython.core.display.Markdown object>"
      ]
     },
     "metadata": {},
     "output_type": "display_data"
    },
    {
     "name": "stdout",
     "output_type": "stream",
     "text": [
      "No of patients in ECDS:  1.0\n",
      "Patients with covid diagnosis recorded: 0.0 ( 0.0 % ) \n",
      "\n",
      "Latest date:  2018-09-23 00:00:00 ,  582 days ago \n",
      "\n"
     ]
    },
    {
     "data": {
      "text/markdown": [
       "**ICNARC (ICU) Summary**"
      ],
      "text/plain": [
       "<IPython.core.display.Markdown object>"
      ]
     },
     "metadata": {},
     "output_type": "display_data"
    },
    {
     "name": "stdout",
     "output_type": "stream",
     "text": [
      "No of patients in ICNARC:  6.0\n",
      "Latest date:  2020-03-03 14:30:00 ,  55 days ago \n",
      "\n"
     ]
    },
    {
     "data": {
      "text/markdown": [
       "**SGSS Summary**"
      ],
      "text/plain": [
       "<IPython.core.display.Markdown object>"
      ]
     },
     "metadata": {},
     "output_type": "display_data"
    },
    {
     "name": "stdout",
     "output_type": "stream",
     "text": [
      "Total patients in SGSS:  14\n",
      "Latest date:  2020-04-23 00:00:00 ,  4 days ago \n",
      "\n",
      "Total positive results:  7.0\n",
      "No of patients with at least one positive result:  7.0 ( 50.0 % )\n",
      "Total negative results:  7.0\n",
      "No of patients with at least one negative result:  7.0 ( 50.0 % )\n",
      "No of patients with at least one positive AND negative result:  0 ( 0.0 % )\n",
      "\n"
     ]
    },
    {
     "data": {
      "text/markdown": [
       "**ECDS/SGSS/ICU Summary**"
      ],
      "text/plain": [
       "<IPython.core.display.Markdown object>"
      ]
     },
     "metadata": {},
     "output_type": "display_data"
    },
    {
     "name": "stdout",
     "output_type": "stream",
     "text": [
      "ECDS patients with positive lab results: 0 ( 0.0 % )\n",
      "ECDS patients with any covid diagnosis and positive lab result: 0 ( 0.0 % )\n",
      "ECDS patients with no lab results: 1 ( 100.0 % )\n",
      "\n",
      "No of patients in SGSS not in A&E (ECDS):  14 ( 100.0 % )\n",
      "\n",
      "No of patients in ICU not in A&E (ECDS):  5 ( 83.0 % )\n",
      "No of patients in ICU not in SGSS:  6 ( 100.0 % )\n",
      "\n"
     ]
    }
   ],
   "source": [
    "import numpy as np\n",
    "\n",
    "e2 = ecds.merge(p, on=\"Patient_ID\", how=\"outer\")\n",
    "e2 = e2.merge(n, on=\"Patient_ID\", how=\"outer\")\n",
    "e2 = e2.merge(d, on=\"Patient_ID\", how=\"left\")\n",
    "e2 = e2.merge(icu, on=\"Patient_ID\", how=\"outer\")\n",
    "\n",
    "#replace nulls\n",
    "cols = [\"EC_Conclusion_Date_latest\",\"pos_Lab_Report_Date_latest\",\"neg_Lab_Report_Date_latest\", \"IcuAdmissionDateTime_latest\"]\n",
    "for c in cols:\n",
    "    e2[c].fillna(datetime(1900,1,1), inplace=True)\n",
    "    \n",
    "e2.fillna(0, inplace=True)\n",
    "\n",
    "# create additional flags\n",
    "e2[\"sgss_flag\"] = np.where(e2[\"positive_flag\"]+e2[\"negative_flag\"]>0, 1, 0)\n",
    "e2[\"pos_neg_flag\"] = np.where((e2[\"positive_flag\"]>0)&(e2[\"negative_flag\"]>0), 1, 0)\n",
    "e2[\"ecds_no_sgss_flag\"] = np.where( (e2[\"ecds_flag\"]==1)&(e2[\"sgss_flag\"]==0), 1, 0)\n",
    "e2[\"sgss_no_ecds_flag\"] = np.where( (e2[\"ecds_flag\"]==0)&(e2[\"sgss_flag\"]==1), 1, 0)\n",
    "e2[\"icu_no_ecds_flag\"] = np.where( (e2[\"ecds_flag\"]==0)&(e2[\"icu_flag\"]==1), 1, 0)\n",
    "e2[\"icu_no_sgss_flag\"] = np.where( (e2[\"sgss_flag\"]==0)&(e2[\"icu_flag\"]==1), 1, 0)\n",
    "e2[\"ecds_and_positive_flag\"] = np.where(e2[\"positive_flag\"]+e2[\"ecds_flag\"]==2, 1, 0)\n",
    "e2[\"diagnosis_and_positive_flag\"] = np.where(e2[\"positive_flag\"]+e2[\"diagnosis_flag\"]==2, 1, 0)\n",
    "\n",
    "# patient counts and percentage calculations\n",
    "ecds_patient_count = e2[\"ecds_flag\"].sum()\n",
    "sgss_patient_count = e2[\"sgss_flag\"].sum()\n",
    "icu_patient_count = e2[\"icu_flag\"].sum()\n",
    "\n",
    "def ecds_percentage(x=1):\n",
    "    return round(100*x/ecds_patient_count,0)\n",
    "\n",
    "def sgss_percentage(x=1):\n",
    "    return round(100*x/sgss_patient_count,0)\n",
    "\n",
    "def icu_percentage(x=1):\n",
    "    return round(100*x/icu_patient_count,0)\n",
    "\n",
    "\n",
    "# print summary information\n",
    "    \n",
    "display(Markdown(f\"**ECDS Summary**\"))\n",
    "print(\"No of patients in ECDS: \", ecds_patient_count)\n",
    "print(\"Patients with covid diagnosis recorded:\", e2[\"diagnosis_flag\"].sum(), \"(\", ecds_percentage(e2[\"diagnosis_flag\"].sum()), \"% ) \\n\")\n",
    "print(\"Latest date: \", e2[\"EC_Conclusion_Date_latest\"].max(),  \", \" , days_ago(e2[\"EC_Conclusion_Date_latest\"].max()), \"days ago \\n\")\n",
    "\n",
    "display(Markdown(f\"**ICNARC (ICU) Summary**\"))\n",
    "print(\"No of patients in ICNARC: \", icu_patient_count)\n",
    "print(\"Latest date: \", e2[\"IcuAdmissionDateTime_latest\"].max(),  \", \" , days_ago(e2[\"IcuAdmissionDateTime_latest\"].max()), \"days ago \\n\")\n",
    "\n",
    "\n",
    "display(Markdown(f\"**SGSS Summary**\"))\n",
    "print(\"Total patients in SGSS: \", sgss_patient_count)\n",
    "print(\"Latest date: \", e2[\"pos_Lab_Report_Date_latest\"].max(),  \", \" , days_ago(e2[\"pos_Lab_Report_Date_latest\"].max()), \"days ago \\n\")\n",
    "\n",
    "print(\"Total positive results: \", e2[\"positives\"].sum())\n",
    "print(\"No of patients with at least one positive result: \", e2[\"positive_flag\"].sum(), \n",
    "      \"(\", sgss_percentage(e2[\"positive_flag\"].sum()), \"% )\")\n",
    "\n",
    "print(\"Total negative results: \", e2[\"negatives\"].sum())\n",
    "print(\"No of patients with at least one negative result: \", e2[\"negative_flag\"].sum(), \n",
    "      \"(\", sgss_percentage(e2[\"negative_flag\"].sum()), \"% )\")\n",
    "\n",
    "print(\"No of patients with at least one positive AND negative result: \", e2[\"pos_neg_flag\"].sum(), \n",
    "      \"(\", sgss_percentage(e2[\"pos_neg_flag\"].sum()), \"% )\\n\")\n",
    "\n",
    "\n",
    "\n",
    "display(Markdown(f\"**ECDS/SGSS/ICU Summary**\"))\n",
    "\n",
    "print(\"ECDS patients with positive lab results:\", e2[\"ecds_and_positive_flag\"].sum(),\n",
    "      \"(\", ecds_percentage(e2[\"ecds_and_positive_flag\"].sum()), \"% )\")\n",
    "      \n",
    "print(\"ECDS patients with any covid diagnosis and positive lab result:\", \n",
    "      e2[\"diagnosis_and_positive_flag\"].sum(), \"(\", ecds_percentage(e2[\"diagnosis_and_positive_flag\"].sum()), \"% )\")\n",
    "\n",
    "print(\"ECDS patients with no lab results:\", e2[\"ecds_no_sgss_flag\"].sum(),\n",
    "     \"(\", ecds_percentage(e2[\"ecds_no_sgss_flag\"].sum()), \"% )\\n\")\n",
    "\n",
    "print(\"No of patients in SGSS not in A&E (ECDS): \", e2[\"sgss_no_ecds_flag\"].sum(), \n",
    "      \"(\", sgss_percentage(e2[\"sgss_no_ecds_flag\"].sum()), \"% )\\n\")\n",
    "\n",
    "print(\"No of patients in ICU not in A&E (ECDS): \", e2[\"icu_no_ecds_flag\"].sum(), \n",
    "      \"(\", icu_percentage(e2[\"icu_no_ecds_flag\"].sum()), \"% )\")\n",
    "\n",
    "print(\"No of patients in ICU not in SGSS: \", e2[\"icu_no_sgss_flag\"].sum(), \n",
    "      \"(\", icu_percentage(e2[\"icu_no_sgss_flag\"].sum()), \"% )\\n\")\n",
    "\n",
    "## note : need to add date restrictions"
   ]
  }
 ],
 "metadata": {
  "jupytext": {
   "cell_metadata_filter": "all",
   "notebook_metadata_filter": "all,-language_info",
   "text_representation": {
    "extension": ".py",
    "format_name": "light",
    "format_version": "1.5",
    "jupytext_version": "1.3.3"
   }
  },
  "kernelspec": {
   "display_name": "Python 3",
   "language": "python",
   "name": "python3"
  },
  "language_info": {
   "codemirror_mode": {
    "name": "ipython",
    "version": 3
   },
   "file_extension": ".py",
   "mimetype": "text/x-python",
   "name": "python",
   "nbconvert_exporter": "python",
   "pygments_lexer": "ipython3",
   "version": "3.8.1"
  }
 },
 "nbformat": 4,
 "nbformat_minor": 4
}
