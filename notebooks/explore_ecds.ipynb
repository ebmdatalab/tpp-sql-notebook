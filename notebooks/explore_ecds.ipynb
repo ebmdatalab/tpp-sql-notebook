{
 "cells": [
  {
   "cell_type": "code",
   "execution_count": 1,
   "metadata": {},
   "outputs": [],
   "source": [
    "import pyodbc\n",
    "import pandas as pd\n",
    "from IPython.display import display, Markdown"
   ]
  },
  {
   "cell_type": "code",
   "execution_count": 2,
   "metadata": {},
   "outputs": [],
   "source": [
    "server = 'covid.ebmdatalab.net,1433'\n",
    "database = 'OPENCoronaExport' \n",
    "username = 'SA'\n",
    "password = 'ahsjdkaJAMSHDA123[' \n",
    "cnxn = pyodbc.connect('DRIVER={ODBC Driver 17 for SQL Server};SERVER='+server+';DATABASE='+database+';UID='+username+';PWD='+ password)\n",
    "cursor = cnxn.cursor()"
   ]
  },
  {
   "cell_type": "markdown",
   "metadata": {},
   "source": [
    "### Main ECDS table"
   ]
  },
  {
   "cell_type": "code",
   "execution_count": 3,
   "metadata": {},
   "outputs": [
    {
     "data": {
      "text/markdown": [
       "**ECDS Summary**"
      ],
      "text/plain": [
       "<IPython.core.display.Markdown object>"
      ]
     },
     "metadata": {},
     "output_type": "display_data"
    },
    {
     "name": "stdout",
     "output_type": "stream",
     "text": [
      "No of patients:  1\n",
      "Latest date:  2018-09-23\n"
     ]
    }
   ],
   "source": [
    "sql = '''-- main ecds table\n",
    "select Patient_ID, \n",
    "max(EC_Conclusion_Date) as EC_Conclusion_Date_latest\n",
    "from ECDS e\n",
    "group by Patient_ID\n",
    "'''\n",
    "\n",
    "ecds = pd.read_sql(sql, cnxn)\n",
    "display(Markdown(f\"**ECDS Summary**\"))\n",
    "print(\"No of patients: \", ecds[\"Patient_ID\"].nunique())\n",
    "print(\"Latest date: \", ecds[\"EC_Conclusion_Date_latest\"].max())"
   ]
  },
  {
   "cell_type": "markdown",
   "metadata": {},
   "source": [
    "### Inspect columns"
   ]
  },
  {
   "cell_type": "code",
   "execution_count": 4,
   "metadata": {},
   "outputs": [
    {
     "data": {
      "text/plain": [
       "Patient_ID                      1314620\n",
       "EC_Conclusion_Date_latest    2018-09-23\n",
       "dtype: object"
      ]
     },
     "execution_count": 4,
     "metadata": {},
     "output_type": "execute_result"
    }
   ],
   "source": [
    "# increase column display limit so that we can see all rows in summary data\n",
    "pd.set_option('display.max_rows', 200)\n",
    "\n",
    "ecds.max()"
   ]
  },
  {
   "cell_type": "markdown",
   "metadata": {},
   "source": [
    "### ECDS diagnosis"
   ]
  },
  {
   "cell_type": "code",
   "execution_count": 5,
   "metadata": {},
   "outputs": [
    {
     "data": {
      "text/markdown": [
       "**ECDS Diagnosis Summary**"
      ],
      "text/plain": [
       "<IPython.core.display.Markdown object>"
      ]
     },
     "metadata": {},
     "output_type": "display_data"
    },
    {
     "name": "stdout",
     "output_type": "stream",
     "text": [
      "No of patients:  0\n"
     ]
    }
   ],
   "source": [
    "sql = '''-- ecds diagnoses:\n",
    "select distinct Patient_ID\n",
    "from ECDS_EC_Diagnoses\n",
    "where LEFT(DiagnosisCode,15) = '124075100000010'\n",
    "'''\n",
    "\n",
    "d = pd.read_sql(sql, cnxn)\n",
    "d[\"diagnosis_flag\"] = 1\n",
    "display(Markdown(f\"**ECDS Diagnosis Summary**\"))\n",
    "print(\"No of patients: \", d[\"Patient_ID\"].nunique())\n",
    "\n",
    "## empty table"
   ]
  },
  {
   "cell_type": "markdown",
   "metadata": {},
   "source": [
    "### Positive in SGSS"
   ]
  },
  {
   "cell_type": "code",
   "execution_count": 6,
   "metadata": {},
   "outputs": [
    {
     "data": {
      "text/markdown": [
       "**SGSS Positive Summary**"
      ],
      "text/plain": [
       "<IPython.core.display.Markdown object>"
      ]
     },
     "metadata": {},
     "output_type": "display_data"
    },
    {
     "name": "stdout",
     "output_type": "stream",
     "text": [
      "No of patients:  7\n",
      "Latest lab result date:  2020-04-23\n"
     ]
    }
   ],
   "source": [
    "sql = '''-- SGSS positives:\n",
    "select DISTINCT Patient_ID, max(Lab_Report_Date) as pos_Lab_Report_Date_latest, count(*) AS positives\n",
    "from SGSS_Positive\n",
    "group by Patient_ID\n",
    "'''\n",
    "p = pd.read_sql(sql, cnxn)\n",
    "display(Markdown(f\"**SGSS Positive Summary**\"))\n",
    "print(\"No of patients: \", p[\"Patient_ID\"].nunique())\n",
    "print(\"Latest lab result date: \", p[\"pos_Lab_Report_Date_latest\"].max())"
   ]
  },
  {
   "cell_type": "markdown",
   "metadata": {},
   "source": [
    "### Negative in SGSS"
   ]
  },
  {
   "cell_type": "code",
   "execution_count": 7,
   "metadata": {},
   "outputs": [
    {
     "data": {
      "text/markdown": [
       "**SGSS Negative Summary**"
      ],
      "text/plain": [
       "<IPython.core.display.Markdown object>"
      ]
     },
     "metadata": {},
     "output_type": "display_data"
    },
    {
     "name": "stdout",
     "output_type": "stream",
     "text": [
      "No of patients:  7\n",
      "Latest lab result date:  2020-04-23\n"
     ]
    }
   ],
   "source": [
    "sql = '''\n",
    "-- SGSS negatives:\n",
    "select Patient_ID, max(Lab_Report_Date) as neg_Lab_Report_Date_latest, count(*) AS negatives\n",
    "from SGSS_Negative\n",
    "group by Patient_ID\n",
    "'''\n",
    "\n",
    "n = pd.read_sql(sql, cnxn)\n",
    "display(Markdown(f\"**SGSS Negative Summary**\"))\n",
    "print(\"No of patients: \", n[\"Patient_ID\"].nunique())\n",
    "print(\"Latest lab result date: \", n[\"neg_Lab_Report_Date_latest\"].max())"
   ]
  },
  {
   "cell_type": "markdown",
   "metadata": {},
   "source": [
    "## How many patients in ECDS have a positive or negative result in SGSS"
   ]
  },
  {
   "cell_type": "markdown",
   "metadata": {},
   "source": [
    "**first check how well periods overlap:**"
   ]
  },
  {
   "cell_type": "code",
   "execution_count": 9,
   "metadata": {},
   "outputs": [
    {
     "name": "stdout",
     "output_type": "stream",
     "text": [
      "ECDS max date:  2018-09-23\n",
      "SGSS max date:  2020-04-23\n"
     ]
    }
   ],
   "source": [
    "print (\"ECDS max date: \", ecds[\"EC_Conclusion_Date_latest\"].max())\n",
    "print (\"SGSS max date: \", p[\"pos_Lab_Report_Date_latest\"].max())"
   ]
  },
  {
   "cell_type": "code",
   "execution_count": 10,
   "metadata": {},
   "outputs": [
    {
     "data": {
      "text/markdown": [
       "**ECDS / SGSS Summary**"
      ],
      "text/plain": [
       "<IPython.core.display.Markdown object>"
      ]
     },
     "metadata": {},
     "output_type": "display_data"
    },
    {
     "name": "stdout",
     "output_type": "stream",
     "text": [
      "No of patients in ECDS:  1\n",
      "Latest date:  2018-09-23 \n",
      "\n",
      "ECDS patients with any covid diagnosis: 0.0 ( 0.0 %) \n",
      "\n",
      "ECDS patients with any covid diagnosis and positive lab result: 0 ( 0.0 %) \n",
      "\n",
      "ECDS patients with positive lab results: 0 ( 0.0 %)\n",
      "ECDS patients with no lab results: 1 ( 100.0 %)\n"
     ]
    }
   ],
   "source": [
    "import numpy as np\n",
    "\n",
    "e2 = ecds.merge(p, on=\"Patient_ID\", how=\"left\").fillna(0)\n",
    "e2 = e2.merge(n, on=\"Patient_ID\", how=\"left\").fillna(0)\n",
    "e2 = e2.merge(d, on=\"Patient_ID\", how=\"left\").fillna(0)\n",
    "\n",
    "\n",
    "e2[\"positive_flag\"] = np.where(e2[\"positives\"]>0,1,0)\n",
    "e2[\"negative_flag\"] = np.where(e2[\"negatives\"]>0,1,0)\n",
    "e2[\"no_sgss_flag\"] = np.where(e2[\"positive_flag\"]+e2[\"negative_flag\"]==0,1,0)\n",
    "e2[\"diagnosis_and_positive_flag\"] = np.where(e2[\"positive_flag\"]+e2[\"diagnosis_flag\"]==2,1,0)\n",
    "\n",
    "patient_count = e2[\"Patient_ID\"].nunique()\n",
    "\n",
    "def percentage(x=1):\n",
    "    return 100*x/patient_count\n",
    "    \n",
    "display(Markdown(f\"**ECDS / SGSS Summary**\"))\n",
    "print(\"No of patients in ECDS: \", e2[\"Patient_ID\"].nunique())\n",
    "print(\"Latest date: \", e2[\"EC_Conclusion_Date_latest\"].max(), \"\\n\")\n",
    "\n",
    "print(\"ECDS patients with any covid diagnosis:\", e2[\"diagnosis_flag\"].sum(), \"(\", percentage(e2[\"diagnosis_flag\"].sum()), \"%) \\n\")\n",
    "\n",
    "print(\"ECDS patients with any covid diagnosis and positive lab result:\", \n",
    "      e2[\"diagnosis_and_positive_flag\"].sum(), \"(\", percentage(e2[\"diagnosis_and_positive_flag\"].sum()), \"%) \\n\")\n",
    "\n",
    "\n",
    "print(\"ECDS patients with positive lab results:\", e2[\"positive_flag\"].sum(),\n",
    "      \"(\", percentage(e2[\"positive_flag\"].sum()), \"%)\")\n",
    "\n",
    "print(\"ECDS patients with no lab results:\", e2[\"no_sgss_flag\"].sum(),\n",
    "     \"(\", percentage(e2[\"no_sgss_flag\"].sum()), \"%)\")"
   ]
  }
 ],
 "metadata": {
  "jupytext": {
   "cell_metadata_filter": "all",
   "notebook_metadata_filter": "all,-language_info",
   "text_representation": {
    "extension": ".py",
    "format_name": "light",
    "format_version": "1.5",
    "jupytext_version": "1.3.3"
   }
  },
  "kernelspec": {
   "display_name": "Python 3",
   "language": "python",
   "name": "python3"
  },
  "language_info": {
   "codemirror_mode": {
    "name": "ipython",
    "version": 3
   },
   "file_extension": ".py",
   "mimetype": "text/x-python",
   "name": "python",
   "nbconvert_exporter": "python",
   "pygments_lexer": "ipython3",
   "version": "3.8.1"
  }
 },
 "nbformat": 4,
 "nbformat_minor": 4
}
