{
 "cells": [
  {
   "cell_type": "markdown",
   "metadata": {},
   "source": [
    "* Factor: Respiratory issues\n",
    "* Threshold/Criteria: at least one prescription for 3 consecutive quarters in given medicines list\n",
    "* Rationale for inclusion: [UK Shielding Criteria](https://www.cas.mhra.gov.uk/ViewandAcknowledgment/ViewAlert.aspx?AlertID=103003)\n",
    "* Proposed Source of code list: the record\n",
    "\n",
    "Our definitely of repeat / regular is \"a medicine has appeared at least once in three consecutive quarters\".\n",
    "\n",
    "This is less conservative than the BSA approach, and we should document why this is.\n",
    "\n",
    "So for the \"asthma defined as people on X inhalers and with Y clinical codes\" question, then we would include someone who changes between listed inhalers (within list X) every month in our cohort\n"
   ]
  },
  {
   "cell_type": "code",
   "execution_count": 2,
   "metadata": {},
   "outputs": [],
   "source": [
    "from lib import database \n",
    "from lib import codelists\n",
    "import pandas as pd\n",
    "import importlib\n",
    "importlib.reload(database)  # for quick library development\n",
    "importlib.reload(codelists) \n",
    "from IPython.display import display, Markdown"
   ]
  },
  {
   "cell_type": "code",
   "execution_count": 8,
   "metadata": {
    "lines_to_next_cell": 2
   },
   "outputs": [],
   "source": [
    "# Some of the qof clusters that we might want to use\n",
    "asthma_clinical_codes = \"AST\"\n",
    "astham_ics_codes = \"ASTTRTATRISK1\"\n",
    "asthma_drugs = \"DRAST3\" # Asthma-related drug treatment codes\n",
    "copd_clinical_codes = \"COPD\" # Chronic obstructive pulmonary disease (COPD) codes\n",
    "copd_clinical_codes_2 = \"COPD2\" # COPD codes. These are the same as COPD\n",
    "copd_clinical_codes_3 = \"DRCOPD1\" # COPD diagnosis. Contains 4 codes not in COPD; and COPD contains 5 not in this\n",
    "smoking_drugs = \"DRSMOK11\" # Asthma-related drug treatment codes\n",
    "inhaled_therapy_drugs = \"INDR\" #C odes for inhaled therapy"
   ]
  },
  {
   "cell_type": "code",
   "execution_count": 13,
   "metadata": {},
   "outputs": [],
   "source": [
    "clinical_codes = codelists.get_codes_for_clusters([asthma_clinical_codes])\n",
    "drug_codes = codelists.get_codes_for_clusters([asthma_drugs])"
   ]
  },
  {
   "cell_type": "code",
   "execution_count": 14,
   "metadata": {},
   "outputs": [],
   "source": [
    "# However, we don't have CTV3 drug codes mapped to DMD ID yet, so we'll just use a bunch of random ones for now\n",
    "df = database.sql_to_df(\"select FullName, DMD_ID from MedicationDictionary GROUP BY FullName, DMD_ID\")\n",
    "drug_codes = list(df[df.DMD_ID != \"\"].sample(100)[\"DMD_ID\"].values)"
   ]
  },
  {
   "cell_type": "code",
   "execution_count": null,
   "metadata": {},
   "outputs": [],
   "source": [
    "importlib.reload(database) \n",
    "df3 = database.patients_with_codes_in_consecutive_quarters(\n",
    "    clinical_code_list=list(clinical_codes), \n",
    "    medicine_code_list=list(drug_codes), \n",
    "    quarters=3)"
   ]
  },
  {
   "cell_type": "code",
   "execution_count": 87,
   "metadata": {},
   "outputs": [
    {
     "data": {
      "text/html": [
       "<div>\n",
       "<style scoped>\n",
       "    .dataframe tbody tr th:only-of-type {\n",
       "        vertical-align: middle;\n",
       "    }\n",
       "\n",
       "    .dataframe tbody tr th {\n",
       "        vertical-align: top;\n",
       "    }\n",
       "\n",
       "    .dataframe thead th {\n",
       "        text-align: right;\n",
       "    }\n",
       "</style>\n",
       "<table border=\"1\" class=\"dataframe\">\n",
       "  <thead>\n",
       "    <tr style=\"text-align: right;\">\n",
       "      <th></th>\n",
       "      <th>continous_months</th>\n",
       "      <th>initial_repeat_date</th>\n",
       "      <th>Patient_ID</th>\n",
       "      <th>DMD_ID</th>\n",
       "    </tr>\n",
       "  </thead>\n",
       "  <tbody>\n",
       "  </tbody>\n",
       "</table>\n",
       "</div>"
      ],
      "text/plain": [
       "Empty DataFrame\n",
       "Columns: [continous_months, initial_repeat_date, Patient_ID, DMD_ID]\n",
       "Index: []"
      ]
     },
     "execution_count": 87,
     "metadata": {},
     "output_type": "execute_result"
    }
   ],
   "source": [
    "df3"
   ]
  }
 ],
 "metadata": {
  "jupytext": {
   "cell_metadata_filter": "all",
   "notebook_metadata_filter": "all,-language_info",
   "text_representation": {
    "extension": ".py",
    "format_name": "light",
    "format_version": "1.5",
    "jupytext_version": "1.3.3"
   }
  },
  "kernelspec": {
   "display_name": "Python 3",
   "language": "python",
   "name": "python3"
  },
  "language_info": {
   "codemirror_mode": {
    "name": "ipython",
    "version": 3
   },
   "file_extension": ".py",
   "mimetype": "text/x-python",
   "name": "python",
   "nbconvert_exporter": "python",
   "pygments_lexer": "ipython3",
   "version": "3.8.1"
  }
 },
 "nbformat": 4,
 "nbformat_minor": 4
}
