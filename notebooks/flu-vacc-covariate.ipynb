{
 "cells": [
  {
   "cell_type": "markdown",
   "metadata": {},
   "source": [
    "# Vaccination status\n",
    "Adults \n",
    "- Pneumococcal\n",
    "- Flu vaccine (time-sensitive: within current flu season)\n",
    "- Shingles\n",
    "\n",
    "\n",
    "Children \n",
    "See NHS website\n",
    "\n",
    "\n",
    "Vaccinations are recorded in two places:\n",
    "1. A vaccination table (not in the current build of dummy data, needs adding in later)\n",
    "2. Read codes in the `CodedEvent` table\n"
   ]
  },
  {
   "cell_type": "code",
   "execution_count": 1,
   "metadata": {},
   "outputs": [],
   "source": [
    "import pyodbc\n",
    "import pandas as pd\n",
    "from IPython.display import display, Markdown"
   ]
  },
  {
   "cell_type": "markdown",
   "metadata": {},
   "source": [
    "### Server connection"
   ]
  },
  {
   "cell_type": "code",
   "execution_count": 2,
   "metadata": {},
   "outputs": [],
   "source": [
    "server = 'covid.ebmdatalab.net,1433'\n",
    "database = 'OPENCoronaExport' \n",
    "username = 'SA'\n",
    "password = 'ahsjdkaJAMSHDA123[' \n",
    "cnxn = pyodbc.connect('DRIVER={ODBC Driver 17 for SQL Server};SERVER='+server+';DATABASE='+database+';UID='+username+';PWD='+ password)\n",
    "cursor = cnxn.cursor()"
   ]
  },
  {
   "cell_type": "markdown",
   "metadata": {},
   "source": [
    "### Flu codes\n",
    "- Haphazardly taken from here, for speed: https://clinicalcodes.rss.mhs.man.ac.uk/medcodes/article/6/codelist/influenza-immunisation/\n",
    "- Looks like there's a completely different set in `../data/QoFClusteres_CTV3Codes - Sheet1.csv`"
   ]
  },
  {
   "cell_type": "code",
   "execution_count": 3,
   "metadata": {},
   "outputs": [
    {
     "data": {
      "text/html": [
       "<div>\n",
       "<style scoped>\n",
       "    .dataframe tbody tr th:only-of-type {\n",
       "        vertical-align: middle;\n",
       "    }\n",
       "\n",
       "    .dataframe tbody tr th {\n",
       "        vertical-align: top;\n",
       "    }\n",
       "\n",
       "    .dataframe thead th {\n",
       "        text-align: right;\n",
       "    }\n",
       "</style>\n",
       "<table border=\"1\" class=\"dataframe\">\n",
       "  <thead>\n",
       "    <tr style=\"text-align: right;\">\n",
       "      <th></th>\n",
       "      <th>Code</th>\n",
       "      <th>Coding system</th>\n",
       "      <th>Description</th>\n",
       "      <th>Entity type</th>\n",
       "      <th>List name</th>\n",
       "      <th>QOF</th>\n",
       "      <th>analysis</th>\n",
       "    </tr>\n",
       "  </thead>\n",
       "  <tbody>\n",
       "    <tr>\n",
       "      <th>0</th>\n",
       "      <td>65E..</td>\n",
       "      <td>Read</td>\n",
       "      <td>Influenza vaccination</td>\n",
       "      <td>immunisation</td>\n",
       "      <td>Influenza immunisation</td>\n",
       "      <td>1</td>\n",
       "      <td>Main</td>\n",
       "    </tr>\n",
       "    <tr>\n",
       "      <th>1</th>\n",
       "      <td>9OX8.</td>\n",
       "      <td>Read</td>\n",
       "      <td>Has influenza vaccination at work</td>\n",
       "      <td>immunisation</td>\n",
       "      <td>Influenza immunisation</td>\n",
       "      <td>0</td>\n",
       "      <td>Sensitivity</td>\n",
       "    </tr>\n",
       "    <tr>\n",
       "      <th>2</th>\n",
       "      <td>n473.</td>\n",
       "      <td>Read</td>\n",
       "      <td>NaN</td>\n",
       "      <td>immunisation</td>\n",
       "      <td>Influenza immunisation</td>\n",
       "      <td>1</td>\n",
       "      <td>Main</td>\n",
       "    </tr>\n",
       "    <tr>\n",
       "      <th>3</th>\n",
       "      <td>n477.</td>\n",
       "      <td>Read</td>\n",
       "      <td>NaN</td>\n",
       "      <td>immunisation</td>\n",
       "      <td>Influenza immunisation</td>\n",
       "      <td>1</td>\n",
       "      <td>Main</td>\n",
       "    </tr>\n",
       "    <tr>\n",
       "      <th>4</th>\n",
       "      <td>n47d.</td>\n",
       "      <td>Read</td>\n",
       "      <td>NaN</td>\n",
       "      <td>immunisation</td>\n",
       "      <td>Influenza immunisation</td>\n",
       "      <td>1</td>\n",
       "      <td>Main</td>\n",
       "    </tr>\n",
       "  </tbody>\n",
       "</table>\n",
       "</div>"
      ],
      "text/plain": [
       "    Code Coding system                        Description   Entity type  \\\n",
       "0  65E..          Read              Influenza vaccination  immunisation   \n",
       "1  9OX8.          Read  Has influenza vaccination at work  immunisation   \n",
       "2  n473.          Read                                NaN  immunisation   \n",
       "3  n477.          Read                                NaN  immunisation   \n",
       "4  n47d.          Read                                NaN  immunisation   \n",
       "\n",
       "                List name  QOF     analysis  \n",
       "0  Influenza immunisation    1         Main  \n",
       "1  Influenza immunisation    0  Sensitivity  \n",
       "2  Influenza immunisation    1         Main  \n",
       "3  Influenza immunisation    1         Main  \n",
       "4  Influenza immunisation    1         Main  "
      ]
     },
     "execution_count": 3,
     "metadata": {},
     "output_type": "execute_result"
    }
   ],
   "source": [
    "flu_read_codes = pd.read_csv('../data/flu_codes.csv')\n",
    "flu_read_codes.head()"
   ]
  },
  {
   "cell_type": "code",
   "execution_count": 4,
   "metadata": {},
   "outputs": [],
   "source": [
    "def codes_to_sql_where(col_name, code_list):\n",
    "    where = \"\"\n",
    "    i = 0\n",
    "    for code in code_list:\n",
    "        if i == 0:\n",
    "            where = where + f\"{col_name} = '{code}'\"\n",
    "        else:\n",
    "            where = where + f\" OR {col_name} = '{code}'\"\n",
    "        i+=1\n",
    "    return where"
   ]
  },
  {
   "cell_type": "code",
   "execution_count": 5,
   "metadata": {},
   "outputs": [
    {
     "data": {
      "text/plain": [
       "\"CTV3Code = '65E..' OR CTV3Code = '9OX8.' OR CTV3Code = 'n473.' OR CTV3Code = 'n477.' OR CTV3Code = 'n47d.'\""
      ]
     },
     "execution_count": 5,
     "metadata": {},
     "output_type": "execute_result"
    }
   ],
   "source": [
    "codes_to_sql_where(\"CTV3Code\", flu_read_codes['Code'].head())"
   ]
  },
  {
   "cell_type": "markdown",
   "metadata": {},
   "source": [
    "### Medcode based vaccinations\n",
    "- there are no values for the current flu season in the dummy data, but it works for previous time periods"
   ]
  },
  {
   "cell_type": "code",
   "execution_count": 6,
   "metadata": {},
   "outputs": [
    {
     "data": {
      "text/html": [
       "<div>\n",
       "<style scoped>\n",
       "    .dataframe tbody tr th:only-of-type {\n",
       "        vertical-align: middle;\n",
       "    }\n",
       "\n",
       "    .dataframe tbody tr th {\n",
       "        vertical-align: top;\n",
       "    }\n",
       "\n",
       "    .dataframe thead th {\n",
       "        text-align: right;\n",
       "    }\n",
       "</style>\n",
       "<table border=\"1\" class=\"dataframe\">\n",
       "  <thead>\n",
       "    <tr style=\"text-align: right;\">\n",
       "      <th></th>\n",
       "      <th>Consultation_ID</th>\n",
       "      <th>CodedEvent_ID</th>\n",
       "      <th>CTV3Code</th>\n",
       "      <th>NumericValue</th>\n",
       "      <th>ConsultationDate</th>\n",
       "      <th>SnomedConceptId</th>\n",
       "    </tr>\n",
       "    <tr>\n",
       "      <th>Patient_ID</th>\n",
       "      <th></th>\n",
       "      <th></th>\n",
       "      <th></th>\n",
       "      <th></th>\n",
       "      <th></th>\n",
       "      <th></th>\n",
       "    </tr>\n",
       "  </thead>\n",
       "  <tbody>\n",
       "  </tbody>\n",
       "</table>\n",
       "</div>"
      ],
      "text/plain": [
       "Empty DataFrame\n",
       "Columns: [Consultation_ID, CodedEvent_ID, CTV3Code, NumericValue, ConsultationDate, SnomedConceptId]\n",
       "Index: []"
      ]
     },
     "execution_count": 6,
     "metadata": {},
     "output_type": "execute_result"
    }
   ],
   "source": [
    "# NBVAL_IGNORE_OUTPUT\n",
    "codes_where = codes_to_sql_where(\"CTV3Code\", flu_read_codes['Code'])\n",
    "query = f'''\n",
    "SELECT * --DISTINCT Patient_ID\n",
    "FROM CodedEvent\n",
    "WHERE ({codes_where}) AND ConsultationDate BETWEEN '2019-09-01' AND '2020-03-31'\n",
    "'''\n",
    "df = pd.read_sql(query, cnxn, index_col='Patient_ID')\n",
    "df"
   ]
  },
  {
   "cell_type": "markdown",
   "metadata": {},
   "source": [
    "### Connection should be closed before restarting the kernal or closing the notebook"
   ]
  },
  {
   "cell_type": "code",
   "execution_count": 7,
   "metadata": {},
   "outputs": [],
   "source": [
    "cnxn.close()"
   ]
  }
 ],
 "metadata": {
  "jupytext": {
   "cell_metadata_filter": "all",
   "notebook_metadata_filter": "all,-language_info",
   "text_representation": {
    "extension": ".py",
    "format_name": "light",
    "format_version": "1.5",
    "jupytext_version": "1.3.3"
   }
  },
  "kernelspec": {
   "display_name": "Python 3",
   "language": "python",
   "name": "python3"
  },
  "language_info": {
   "codemirror_mode": {
    "name": "ipython",
    "version": 3
   },
   "file_extension": ".py",
   "mimetype": "text/x-python",
   "name": "python",
   "nbconvert_exporter": "python",
   "pygments_lexer": "ipython3",
   "version": "3.8.1"
  }
 },
 "nbformat": 4,
 "nbformat_minor": 4
}
